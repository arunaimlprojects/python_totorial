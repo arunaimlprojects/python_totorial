{
 "cells": [
  {
   "cell_type": "code",
   "execution_count": null,
   "metadata": {},
   "outputs": [],
   "source": []
  },
  {
   "cell_type": "markdown",
   "metadata": {},
   "source": [
    "### **Definition and Purpose:**\n",
    "\n",
    "- **`zip()`**:\n",
    "  The `zip()` function in Python combines two or more iterables (like lists, tuples, or strings) element-wise. It creates pairs (or tuples) from the corresponding elements of the input iterables. If the iterables are of uneven length, `zip()` stops when the shortest iterable is exhausted.\n",
    "\n",
    "  **Syntax:**  \n",
    "  ```python\n",
    "  zip(iterable1, iterable2, ...)\n",
    "  ```\n",
    "  - Returns: A `zip` object that can be converted to a list, tuple, or used in loops.\n",
    "\n",
    "- **`enumerate()`**:  \n",
    "  The `enumerate()` function adds a counter (starting from `0` by default) to an iterable and returns it in the form of an enumerate object. It's typically used in loops to access both the index and the corresponding value of elements in an iterable.\n",
    "\n",
    "  **Syntax:**  \n",
    "  ```python\n",
    "  enumerate(iterable, start=0)\n",
    "  ```\n",
    "  - `start` (optional): Specifies the starting value of the counter (default is 0).  \n",
    "  - Returns: An `enumerate` object.\n",
    "\n",
    "---\n",
    "\n",
    "### **Examples:**\n",
    "\n",
    "#### **1. Using `zip()`**\n",
    "\n",
    "```python\n",
    "# Combining two lists\n",
    "list1 = ['a', 'b', 'c']\n",
    "list2 = [1, 2, 3]\n",
    "\n",
    "zipped = zip(list1, list2)\n",
    "print(list(zipped))  # Output: [('a', 1), ('b', 2), ('c', 3)]\n",
    "```\n",
    "\n",
    "- **Uneven length example:**\n",
    "\n",
    "```python\n",
    "list1 = ['x', 'y', 'z']\n",
    "list2 = [10, 20]\n",
    "\n",
    "zipped = zip(list1, list2)\n",
    "print(list(zipped))  # Output: [('x', 10), ('y', 20)]\n",
    "```\n",
    "\n",
    "- **Using `zip()` in a loop:**\n",
    "\n",
    "```python\n",
    "names = [\"Alice\", \"Bob\", \"Charlie\"]\n",
    "scores = [85, 90, 95]\n",
    "\n",
    "for name, score in zip(names, scores):\n",
    "    print(f\"{name}: {score}\")\n",
    "# Output:\n",
    "# Alice: 85\n",
    "# Bob: 90\n",
    "# Charlie: 95\n",
    "```\n",
    "\n",
    "---\n",
    "\n",
    "#### **2. Using `enumerate()`**\n",
    "\n",
    "```python\n",
    "# Iterating through a list with index\n",
    "fruits = [\"apple\", \"banana\", \"cherry\"]\n",
    "\n",
    "for index, fruit in enumerate(fruits):\n",
    "    print(f\"Index: {index}, Fruit: {fruit}\")\n",
    "# Output:\n",
    "# Index: 0, Fruit: apple\n",
    "# Index: 1, Fruit: banana\n",
    "# Index: 2, Fruit: cherry\n",
    "```\n",
    "\n",
    "- **Custom start index:**\n",
    "\n",
    "```python\n",
    "fruits = [\"apple\", \"banana\", \"cherry\"]\n",
    "\n",
    "for index, fruit in enumerate(fruits, start=1):\n",
    "    print(f\"Position: {index}, Fruit: {fruit}\")\n",
    "# Output:\n",
    "# Position: 1, Fruit: apple\n",
    "# Position: 2, Fruit: banana\n",
    "# Position: 3, Fruit: cherry\n",
    "```\n",
    "\n",
    "---\n",
    "\n",
    "### **Key Differences:**\n",
    "\n",
    "| Feature        | `zip()`                                    | `enumerate()`                                |\n",
    "|----------------|--------------------------------------------|---------------------------------------------|\n",
    "| **Purpose**    | Combines multiple iterables element-wise.  | Adds a counter to an iterable.             |\n",
    "| **Output**     | Returns tuples of corresponding elements.  | Returns tuples of index and value.         |\n",
    "| **Use Case**   | Merging data from multiple sources.        | Accessing both index and value while looping. |\n",
    "\n",
    "---\n",
    "\n",
    "If you want more examples or clarification, let me know! 😊"
   ]
  },
  {
   "cell_type": "code",
   "execution_count": 3,
   "metadata": {},
   "outputs": [
    {
     "name": "stdout",
     "output_type": "stream",
     "text": [
      "[('a', 1), ('b', 2), ('c', 3)]\n"
     ]
    }
   ],
   "source": [
    "# Combining two lists\n",
    "list1 = ['a', 'b', 'c']\n",
    "list2 = [1, 2, 3]\n",
    "\n",
    "zipped = zip(list1, list2)\n",
    "print(list(zipped))  # Output: [('a', 1), ('b', 2), ('c', 3)]\n"
   ]
  },
  {
   "cell_type": "code",
   "execution_count": 4,
   "metadata": {},
   "outputs": [
    {
     "name": "stdout",
     "output_type": "stream",
     "text": [
      "[('x', 10), ('y', 20)]\n"
     ]
    }
   ],
   "source": [
    "list1 = ['x', 'y', 'z']\n",
    "list2 = [10, 20]\n",
    "\n",
    "zipped = zip(list1, list2)\n",
    "print(list(zipped))  # Output: [('x', 10), ('y', 20)]\n"
   ]
  },
  {
   "cell_type": "code",
   "execution_count": 5,
   "metadata": {},
   "outputs": [
    {
     "name": "stdout",
     "output_type": "stream",
     "text": [
      "Alice: 85\n",
      "Bob: 90\n",
      "Charlie: 95\n"
     ]
    }
   ],
   "source": [
    "names = [\"Alice\", \"Bob\", \"Charlie\"]\n",
    "scores = [85, 90, 95]\n",
    "\n",
    "for name, score in zip(names, scores):\n",
    "    print(f\"{name}: {score}\")\n",
    "# Output:\n",
    "# Alice: 85\n",
    "# Bob: 90\n",
    "# Charlie: 95\n"
   ]
  },
  {
   "cell_type": "code",
   "execution_count": null,
   "metadata": {},
   "outputs": [],
   "source": []
  },
  {
   "cell_type": "code",
   "execution_count": 1,
   "metadata": {},
   "outputs": [
    {
     "name": "stdout",
     "output_type": "stream",
     "text": [
      "Index: 0, Fruit: apple\n",
      "Index: 1, Fruit: banana\n",
      "Index: 2, Fruit: cherry\n"
     ]
    }
   ],
   "source": [
    "# Iterating through a list with index\n",
    "fruits = [\"apple\", \"banana\", \"cherry\"]\n",
    "\n",
    "for index, fruit in enumerate(fruits):\n",
    "    print(f\"Index: {index}, Fruit: {fruit}\")\n",
    "# Output:\n",
    "# Index: 0, Fruit: apple\n",
    "# Index: 1, Fruit: banana\n",
    "# Index: 2, Fruit: cherry\n"
   ]
  },
  {
   "cell_type": "code",
   "execution_count": 13,
   "metadata": {},
   "outputs": [],
   "source": [
    "# Iterating through a list with index\n",
    "fruits = [\"apple\", \"banana\", \"cherry\"]"
   ]
  },
  {
   "cell_type": "code",
   "execution_count": null,
   "metadata": {},
   "outputs": [],
   "source": [
    "f"
   ]
  },
  {
   "cell_type": "code",
   "execution_count": null,
   "metadata": {},
   "outputs": [],
   "source": []
  },
  {
   "cell_type": "code",
   "execution_count": 2,
   "metadata": {},
   "outputs": [
    {
     "name": "stdout",
     "output_type": "stream",
     "text": [
      "Position: 1, Fruit: apple\n",
      "Position: 2, Fruit: banana\n",
      "Position: 3, Fruit: cherry\n"
     ]
    }
   ],
   "source": [
    "fruits = [\"apple\", \"banana\", \"cherry\"]\n",
    "\n",
    "for index, fruit in enumerate(fruits, start=1):\n",
    "    print(f\"Position: {index}, Fruit: {fruit}\")\n",
    "# Output:\n",
    "# Position: 1, Fruit: apple\n",
    "# Position: 2, Fruit: banana\n",
    "# Position: 3, Fruit: cherry\n"
   ]
  },
  {
   "cell_type": "code",
   "execution_count": 8,
   "metadata": {},
   "outputs": [],
   "source": [
    "#zip function in python comvine tow or more iteravles like list and tuples,string,\n",
    "# Combining two lists\n",
    "list1 = ['a', 'b', 'c']\n",
    "list2 = [1, 2, 3]\n",
    "\n"
   ]
  },
  {
   "cell_type": "code",
   "execution_count": 9,
   "metadata": {},
   "outputs": [],
   "source": [
    "zipped = zip(list1, list2)"
   ]
  },
  {
   "cell_type": "code",
   "execution_count": 11,
   "metadata": {},
   "outputs": [
    {
     "name": "stdout",
     "output_type": "stream",
     "text": [
      "[('a', 1), ('b', 2), ('c', 3)]\n"
     ]
    }
   ],
   "source": [
    "print(list(zipped))  # Output: [('a', 1), ('b', 2), ('c', 3)]"
   ]
  },
  {
   "cell_type": "code",
   "execution_count": 12,
   "metadata": {},
   "outputs": [
    {
     "name": "stdout",
     "output_type": "stream",
     "text": [
      "[('x', 10), ('y', 20)]\n"
     ]
    }
   ],
   "source": [
    "list1 = ['x', 'y', 'z']\n",
    "list2 = [10, 20]\n",
    "\n",
    "zipped = zip(list1, list2)\n",
    "print(list(zipped))  # Output: [('x', 10), ('y', 20)]\n"
   ]
  },
  {
   "cell_type": "code",
   "execution_count": null,
   "metadata": {},
   "outputs": [],
   "source": []
  }
 ],
 "metadata": {
  "kernelspec": {
   "display_name": "base",
   "language": "python",
   "name": "python3"
  },
  "language_info": {
   "codemirror_mode": {
    "name": "ipython",
    "version": 3
   },
   "file_extension": ".py",
   "mimetype": "text/x-python",
   "name": "python",
   "nbconvert_exporter": "python",
   "pygments_lexer": "ipython3",
   "version": "3.11.7"
  }
 },
 "nbformat": 4,
 "nbformat_minor": 2
}
