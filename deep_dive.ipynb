{
 "cells": [
  {
   "cell_type": "markdown",
   "id": "06e66c20-903a-4d5e-b19b-5b92f2f8388a",
   "metadata": {},
   "source": [
    "Deep Dive: Mutability, Variable Referencing & Garbage Collection in Python"
   ]
  },
  {
   "cell_type": "markdown",
   "id": "da4a3a2d-cff2-452e-9067-3ac31d6eb55c",
   "metadata": {},
   "source": [
    "1. Variable and Memory References"
   ]
  },
  {
   "cell_type": "code",
   "execution_count": 7,
   "id": "7bff9928-2cf4-4fce-a5da-27dbf53a9164",
   "metadata": {},
   "outputs": [],
   "source": [
    "a = 12#Python में variables खुद values को store नहीं करते, बल्कि memory address को refer करते हैं।"
   ]
  },
  {
   "cell_type": "code",
   "execution_count": 1,
   "id": "3f57a58b-9162-483f-8f4a-70f011efc6ba",
   "metadata": {},
   "outputs": [],
   "source": [
    "c = 10"
   ]
  },
  {
   "cell_type": "code",
   "execution_count": 8,
   "id": "05510063-419b-4203-bc5e-154bfc0775a4",
   "metadata": {},
   "outputs": [
    {
     "data": {
      "text/plain": [
       "140709063869576"
      ]
     },
     "execution_count": 8,
     "metadata": {},
     "output_type": "execute_result"
    }
   ],
   "source": [
    "id(a)"
   ]
  },
  {
   "cell_type": "code",
   "execution_count": 9,
   "id": "df52888a-5ad7-4307-8a18-b9494c584752",
   "metadata": {},
   "outputs": [
    {
     "data": {
      "text/plain": [
       "140709063869576"
      ]
     },
     "execution_count": 9,
     "metadata": {},
     "output_type": "execute_result"
    }
   ],
   "source": [
    "id(12)"
   ]
  },
  {
   "cell_type": "markdown",
   "id": "1c2b73b4-c194-4707-b875-9ae8d300f7b7",
   "metadata": {},
   "source": [
    "2. Call by Object Reference (Python का Memory Model)"
   ]
  },
  {
   "cell_type": "raw",
   "id": "5333932f-8320-48aa-83d7-ea65f0cbaeab",
   "metadata": {},
   "source": [
    "Python में सभी variables object references के रूप में काम करते हैं।\n",
    "\n",
    "Immutable objects (जैसे int, float, str, tuple) का नया object बनता है।\n",
    "Mutable objects (जैसे list, dict, set) का existing object ही modify होता है।"
   ]
  },
  {
   "cell_type": "markdown",
   "id": "0c22297c-3a5c-4535-8f6e-57a6872a6ff6",
   "metadata": {},
   "source": [
    "Example 1: Immutable Object"
   ]
  },
  {
   "cell_type": "code",
   "execution_count": 17,
   "id": "982460f1-fe8b-433b-a9e3-dc0422549195",
   "metadata": {},
   "outputs": [
    {
     "name": "stdout",
     "output_type": "stream",
     "text": [
      "140709063869512 140709063869512\n",
      "140709063869832 140709063869512\n"
     ]
    }
   ],
   "source": [
    "a = 10\n",
    "b = a  \n",
    "print(id(a), id(b))  # दोनों का id same होगा\n",
    "\n",
    "a = 20\n",
    "print(id(a), id(b))  # अब 'a' का नया id होगा\n"
   ]
  },
  {
   "cell_type": "code",
   "execution_count": 10,
   "id": "1195cc33-e482-43c1-9fd0-2abee4bd1024",
   "metadata": {},
   "outputs": [],
   "source": [
    "a = 10\n",
    "b = a"
   ]
  },
  {
   "cell_type": "code",
   "execution_count": 11,
   "id": "de9d79c5-4d16-488b-bef4-728882fd4832",
   "metadata": {},
   "outputs": [
    {
     "data": {
      "text/plain": [
       "10"
      ]
     },
     "execution_count": 11,
     "metadata": {},
     "output_type": "execute_result"
    }
   ],
   "source": [
    "b"
   ]
  },
  {
   "cell_type": "code",
   "execution_count": 12,
   "id": "4b823e6f-58b8-4cbb-8411-d7383607a3da",
   "metadata": {},
   "outputs": [
    {
     "data": {
      "text/plain": [
       "140709063869512"
      ]
     },
     "execution_count": 12,
     "metadata": {},
     "output_type": "execute_result"
    }
   ],
   "source": [
    "id(b)"
   ]
  },
  {
   "cell_type": "code",
   "execution_count": 13,
   "id": "3d2bb82a-b29d-42f7-80ca-2cc9b7c865a4",
   "metadata": {},
   "outputs": [
    {
     "data": {
      "text/plain": [
       "140709063869512"
      ]
     },
     "execution_count": 13,
     "metadata": {},
     "output_type": "execute_result"
    }
   ],
   "source": [
    "id(a)"
   ]
  },
  {
   "cell_type": "code",
   "execution_count": 15,
   "id": "fd8e0b57-43bd-4c03-ba2a-7aad91fbface",
   "metadata": {},
   "outputs": [],
   "source": [
    "a = 20"
   ]
  },
  {
   "cell_type": "code",
   "execution_count": 16,
   "id": "f3be967b-9e8d-4f6b-8849-f34ac3a41f8e",
   "metadata": {},
   "outputs": [
    {
     "name": "stdout",
     "output_type": "stream",
     "text": [
      "140709063869832 140709063869512\n"
     ]
    }
   ],
   "source": [
    "print(id(a), id(b))"
   ]
  },
  {
   "cell_type": "code",
   "execution_count": null,
   "id": "ff9ee327-a41d-4dc7-8b6a-9d9e9b851477",
   "metadata": {},
   "outputs": [],
   "source": []
  },
  {
   "cell_type": "code",
   "execution_count": null,
   "id": "35cdd561-1f50-4f0c-a6f0-587bb2f5ef6a",
   "metadata": {},
   "outputs": [],
   "source": []
  },
  {
   "cell_type": "markdown",
   "id": "19fdb2aa-7170-402a-acf7-aaa22d93dcb5",
   "metadata": {},
   "source": [
    "Example 2: Mutable Object"
   ]
  },
  {
   "cell_type": "code",
   "execution_count": 18,
   "id": "248ac6b8-192d-4509-b701-94b47dbebacb",
   "metadata": {},
   "outputs": [
    {
     "name": "stdout",
     "output_type": "stream",
     "text": [
      "[1, 2, 3, 4]\n",
      "[1, 2, 3, 4]\n",
      "2637198548416 2637198548416\n"
     ]
    }
   ],
   "source": [
    "list1 = [1, 2, 3]\n",
    "list2 = list1  # दोनों same memory address को point कर रहे हैं\n",
    "list1.append(4)\n",
    "\n",
    "print(list1)  # [1, 2, 3, 4]\n",
    "print(list2)  # [1, 2, 3, 4] (Surprise!)\n",
    "print(id(list1), id(list2))  # दोनों की memory location same होगी\n"
   ]
  },
  {
   "cell_type": "markdown",
   "id": "539394f1-924e-468f-884a-44d841b2527a",
   "metadata": {},
   "source": [
    "4. Copy vs. Deep Copy (Shallow vs. Deep Copy)"
   ]
  },
  {
   "cell_type": "code",
   "execution_count": 19,
   "id": "d1f87a7e-a414-4c08-8a22-9487f134001d",
   "metadata": {},
   "outputs": [
    {
     "name": "stdout",
     "output_type": "stream",
     "text": [
      "[[1, 2, 3, 10], [4, 5, 6]]\n",
      "[[1, 2, 3, 10], [4, 5, 6]]\n"
     ]
    }
   ],
   "source": [
    "import copy\n",
    "\n",
    "list1 = [[1, 2, 3], [4, 5, 6]]\n",
    "list2 = copy.copy(list1)  # Shallow Copy\n",
    "\n",
    "list1[0].append(10)\n",
    "print(list1)  # [[1, 2, 3, 10], [4, 5, 6]]\n",
    "print(list2)  # [[1, 2, 3, 10], [4, 5, 6]]  (Nested object भी change हुआ!)\n"
   ]
  },
  {
   "cell_type": "code",
   "execution_count": 20,
   "id": "5567885b-8e75-43fa-8112-948b42c5f296",
   "metadata": {},
   "outputs": [
    {
     "name": "stdout",
     "output_type": "stream",
     "text": [
      "[[1, 2, 3, 10, 20], [4, 5, 6]]\n",
      "[[1, 2, 3, 10], [4, 5, 6]]\n"
     ]
    }
   ],
   "source": [
    "list3 = copy.deepcopy(list1)\n",
    "list1[0].append(20)\n",
    "\n",
    "print(list1)  # [[1, 2, 3, 10, 20], [4, 5, 6]]\n",
    "print(list3)  # [[1, 2, 3, 10], [4, 5, 6]]  (Independent copy)\n"
   ]
  },
  {
   "cell_type": "markdown",
   "id": "ceca8e1f-c286-4970-9dd1-85a9ab22df1c",
   "metadata": {},
   "source": [
    "5. Garbage Collection (GC) & Reference Counting"
   ]
  },
  {
   "cell_type": "raw",
   "id": "05483e7a-82f6-41e6-88cc-1ea4de421f06",
   "metadata": {},
   "source": [
    "Python automatic garbage collection (GC) करता है, जिससे unused objects memory से हट जाते हैं।\n",
    "\n",
    "Reference Counting (जब object delete होता है?)\n",
    "Python में object तभी delete होता है जब उसकी reference count = 0 हो जाए।"
   ]
  },
  {
   "cell_type": "code",
   "execution_count": 21,
   "id": "90f1f0d1-13a6-4e77-8db7-c3fdc175604b",
   "metadata": {},
   "outputs": [
    {
     "name": "stdout",
     "output_type": "stream",
     "text": [
      "3\n",
      "2\n"
     ]
    }
   ],
   "source": [
    "import sys\n",
    "\n",
    "a = [1, 2, 3]\n",
    "b = a  # 'b' भी same object को refer कर रहा है\n",
    "print(sys.getrefcount(a))  # Output: 3 (a, b और getrefcount खुद refer कर रहे हैं)\n",
    "\n",
    "del a  # 'a' को delete किया, लेकिन 'b' अब भी refer कर रहा है\n",
    "print(sys.getrefcount(b))  # Output: 2 (b और getrefcount)\n"
   ]
  },
  {
   "cell_type": "code",
   "execution_count": 24,
   "id": "aa472319-69e8-4a7f-a929-518e2e4db560",
   "metadata": {},
   "outputs": [
    {
     "name": "stdout",
     "output_type": "stream",
     "text": [
      "3\n",
      "2\n"
     ]
    }
   ],
   "source": [
    "import sys\n",
    "\n",
    "a = [1, 2, 3,4,5]\n",
    "b = a  # 'b' भी same object को refer कर रहा है\n",
    "print(sys.getrefcount(a))  # Output: 3 (a, b और getrefcount खुद refer कर रहे हैं)\n",
    "\n",
    "del a  # 'a' को delete किया, लेकिन 'b' अब भी refer कर रहा है\n",
    "print(sys.getrefcount(b))  # Output: 2 (b और getrefcount)\n"
   ]
  },
  {
   "cell_type": "code",
   "execution_count": 25,
   "id": "6eab9deb-0f99-4ef8-925b-cc704f2c3e88",
   "metadata": {},
   "outputs": [],
   "source": [
    "c = [1, 2, 3,4,5]\n",
    "d = c  # 'b' भी same object को refer कर रहा है"
   ]
  },
  {
   "cell_type": "code",
   "execution_count": 26,
   "id": "0d0a8ef9-c1f9-4bd8-93a3-2cbce7bf3919",
   "metadata": {},
   "outputs": [
    {
     "name": "stdout",
     "output_type": "stream",
     "text": [
      "3\n"
     ]
    }
   ],
   "source": [
    "print(sys.getrefcount(c))"
   ]
  },
  {
   "cell_type": "code",
   "execution_count": 27,
   "id": "fe361516-9f55-45a4-b807-6cb36b81e2b6",
   "metadata": {},
   "outputs": [
    {
     "name": "stdout",
     "output_type": "stream",
     "text": [
      "2\n"
     ]
    }
   ],
   "source": [
    "del c  # 'a' को delete किया, लेकिन 'b' अब भी refer कर रहा है\n",
    "print(sys.getrefcount(d))"
   ]
  },
  {
   "cell_type": "markdown",
   "id": "70729883-b226-4dcc-9fa4-afd85fa19fd7",
   "metadata": {},
   "source": [
    "6. Garbage Collector (gc Module)"
   ]
  },
  {
   "cell_type": "raw",
   "id": "83730d45-4146-492c-ad15-8b7ff32d128a",
   "metadata": {},
   "source": [
    "Python में garbage collection को manually control करने के लिए gc module होता है।"
   ]
  },
  {
   "cell_type": "code",
   "execution_count": 28,
   "id": "801631a8-84be-4b7c-bcee-e5763f204620",
   "metadata": {},
   "outputs": [
    {
     "name": "stdout",
     "output_type": "stream",
     "text": [
      "True\n"
     ]
    }
   ],
   "source": [
    "import gc\n",
    "\n",
    "print(gc.isenabled())  # True (GC enabled होता है)\n",
    "\n"
   ]
  },
  {
   "cell_type": "code",
   "execution_count": 29,
   "id": "e620dc7c-1e8a-453a-a667-c9c649182775",
   "metadata": {},
   "outputs": [],
   "source": [
    "gc.disable()  # GC को disable कर सकते हैं\n"
   ]
  },
  {
   "cell_type": "code",
   "execution_count": 30,
   "id": "f6566b94-7f8b-47a3-9062-ba59421374c9",
   "metadata": {},
   "outputs": [],
   "source": [
    "gc.enable()\n"
   ]
  },
  {
   "cell_type": "code",
   "execution_count": 31,
   "id": "5372933d-d46a-4634-966b-2a87ebc55fa2",
   "metadata": {},
   "outputs": [
    {
     "data": {
      "text/plain": [
       "31"
      ]
     },
     "execution_count": 31,
     "metadata": {},
     "output_type": "execute_result"
    }
   ],
   "source": [
    "gc.collect()"
   ]
  },
  {
   "cell_type": "markdown",
   "id": "085a6787-b02f-4919-ac53-4b553964ab83",
   "metadata": {},
   "source": [
    "7. is vs. == (Identity vs. Equality Comparison)"
   ]
  },
  {
   "cell_type": "code",
   "execution_count": 32,
   "id": "382388a0-784e-4827-a464-d2fea0844246",
   "metadata": {},
   "outputs": [
    {
     "name": "stdout",
     "output_type": "stream",
     "text": [
      "True\n",
      "False\n",
      "True\n"
     ]
    }
   ],
   "source": [
    "a = [1, 2, 3]\n",
    "b = a\n",
    "c = [1, 2, 3]\n",
    "\n",
    "print(a == c)  # True (Values same हैं)\n",
    "print(a is c)  # False (Memory address different है)\n",
    "print(a is b)  # True (Same memory address)\n"
   ]
  },
  {
   "cell_type": "code",
   "execution_count": null,
   "id": "787feb8f-d08b-4bee-a91a-9e6d63caf4d5",
   "metadata": {},
   "outputs": [],
   "source": []
  }
 ],
 "metadata": {
  "kernelspec": {
   "display_name": "Python 3 (ipykernel)",
   "language": "python",
   "name": "python3"
  },
  "language_info": {
   "codemirror_mode": {
    "name": "ipython",
    "version": 3
   },
   "file_extension": ".py",
   "mimetype": "text/x-python",
   "name": "python",
   "nbconvert_exporter": "python",
   "pygments_lexer": "ipython3",
   "version": "3.11.7"
  }
 },
 "nbformat": 4,
 "nbformat_minor": 5
}
