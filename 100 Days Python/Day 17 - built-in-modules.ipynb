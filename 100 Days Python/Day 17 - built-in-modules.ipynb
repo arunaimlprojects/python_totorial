{
 "cells": [
  {
   "cell_type": "markdown",
   "id": "6975c47a",
   "metadata": {},
   "source": [
    "# What are Modules?\n",
    "\n",
    "- **Code libraries** in Python.\n",
    "- **Contain functions** for use.\n",
    "\n",
    "*Examples:*\n",
    "- **Math**: Math ops\n",
    "- **Random**: Random numbers\n",
    "- **os**: OS interaction\n",
    "- **time**: Time tasks"
   ]
  },
  {
   "cell_type": "code",
   "execution_count": 1,
   "id": "c827ad4b",
   "metadata": {},
   "outputs": [
    {
     "name": "stdout",
     "output_type": "stream",
     "text": [
      "\n",
      "Please wait a moment while I gather a list of all available modules...\n",
      "\n"
     ]
    },
    {
     "name": "stderr",
     "output_type": "stream",
     "text": [
      "c:\\Users\\hp\\anaconda3\\Lib\\site-packages\\torchaudio\\backend\\utils.py:74: UserWarning: No audio backend is available.\n",
      "  warnings.warn(\"No audio backend is available.\")\n"
     ]
    },
    {
     "ename": "",
     "evalue": "",
     "output_type": "error",
     "traceback": [
      "\u001b[1;31mThe Kernel crashed while executing code in the current cell or a previous cell. \n",
      "\u001b[1;31mPlease review the code in the cell(s) to identify a possible cause of the failure. \n",
      "\u001b[1;31mClick <a href='https://aka.ms/vscodeJupyterKernelCrash'>here</a> for more info. \n",
      "\u001b[1;31mView Jupyter <a href='command:jupyter.viewOutput'>log</a> for further details."
     ]
    }
   ],
   "source": [
    "help('modules')"
   ]
  },
  {
   "cell_type": "code",
   "execution_count": 2,
   "id": "b5c2ca44",
   "metadata": {
    "scrolled": true
   },
   "outputs": [
    {
     "name": "stdout",
     "output_type": "stream",
     "text": [
      "['False', 'None', 'True', 'and', 'as', 'assert', 'async', 'await', 'break', 'class', 'continue', 'def', 'del', 'elif', 'else', 'except', 'finally', 'for', 'from', 'global', 'if', 'import', 'in', 'is', 'lambda', 'nonlocal', 'not', 'or', 'pass', 'raise', 'return', 'try', 'while', 'with', 'yield']\n"
     ]
    }
   ],
   "source": [
    "# keyword module\n",
    "import keyword\n",
    "print(keyword.kwlist)  # Reserved keywords in Python"
   ]
  },
  {
   "cell_type": "markdown",
   "id": "632f986e",
   "metadata": {},
   "source": [
    "### Math Module"
   ]
  },
  {
   "cell_type": "code",
   "execution_count": 1,
   "id": "ec581766",
   "metadata": {},
   "outputs": [],
   "source": [
    "# include <stdio.h>\n",
    "import math"
   ]
  },
  {
   "cell_type": "code",
   "execution_count": 2,
   "id": "0c76afdd",
   "metadata": {},
   "outputs": [
    {
     "data": {
      "text/plain": [
       "3.141592653589793"
      ]
     },
     "execution_count": 2,
     "metadata": {},
     "output_type": "execute_result"
    }
   ],
   "source": [
    "math.pi"
   ]
  },
  {
   "cell_type": "code",
   "execution_count": 3,
   "id": "6ac1e347",
   "metadata": {},
   "outputs": [
    {
     "data": {
      "text/plain": [
       "2.718281828459045"
      ]
     },
     "execution_count": 3,
     "metadata": {},
     "output_type": "execute_result"
    }
   ],
   "source": [
    "math.e"
   ]
  },
  {
   "cell_type": "code",
   "execution_count": 4,
   "id": "92777285",
   "metadata": {},
   "outputs": [
    {
     "data": {
      "text/plain": [
       "120"
      ]
     },
     "execution_count": 4,
     "metadata": {},
     "output_type": "execute_result"
    }
   ],
   "source": [
    "math.factorial(5)#5*4*3*2*1"
   ]
  },
  {
   "cell_type": "code",
   "execution_count": 5,
   "id": "81875d42",
   "metadata": {},
   "outputs": [
    {
     "data": {
      "text/plain": [
       "7"
      ]
     },
     "execution_count": 5,
     "metadata": {},
     "output_type": "execute_result"
    }
   ],
   "source": [
    "math.ceil(6.3)"
   ]
  },
  {
   "cell_type": "code",
   "execution_count": 6,
   "id": "5dc86635",
   "metadata": {},
   "outputs": [
    {
     "data": {
      "text/plain": [
       "6"
      ]
     },
     "execution_count": 6,
     "metadata": {},
     "output_type": "execute_result"
    }
   ],
   "source": [
    "math.floor(6.9)"
   ]
  },
  {
   "cell_type": "markdown",
   "id": "e954367e",
   "metadata": {},
   "source": [
    "### Random Module"
   ]
  },
  {
   "cell_type": "code",
   "execution_count": 7,
   "id": "894d866d",
   "metadata": {},
   "outputs": [],
   "source": [
    "import random"
   ]
  },
  {
   "cell_type": "code",
   "execution_count": 10,
   "id": "39ba8fe2",
   "metadata": {},
   "outputs": [
    {
     "data": {
      "text/plain": [
       "9"
      ]
     },
     "execution_count": 10,
     "metadata": {},
     "output_type": "execute_result"
    }
   ],
   "source": [
    "random.randint(1, 100)"
   ]
  },
  {
   "cell_type": "code",
   "execution_count": 11,
   "id": "09476dd9",
   "metadata": {},
   "outputs": [
    {
     "data": {
      "text/plain": [
       "[4, 1, 2, 5, 3]"
      ]
     },
     "execution_count": 11,
     "metadata": {},
     "output_type": "execute_result"
    }
   ],
   "source": [
    "a = [1, 2, 3, 4, 5]\n",
    "random.shuffle(a)\n",
    "a"
   ]
  },
  {
   "cell_type": "markdown",
   "id": "645bfaea",
   "metadata": {},
   "source": [
    "### Time Module"
   ]
  },
  {
   "cell_type": "code",
   "execution_count": 12,
   "id": "0ab1cfde",
   "metadata": {},
   "outputs": [],
   "source": [
    "import time"
   ]
  },
  {
   "cell_type": "code",
   "execution_count": 13,
   "id": "0f72a97f",
   "metadata": {},
   "outputs": [
    {
     "data": {
      "text/plain": [
       "1738567212.0496519"
      ]
     },
     "execution_count": 13,
     "metadata": {},
     "output_type": "execute_result"
    }
   ],
   "source": [
    "time.time() # Current time (seconds)"
   ]
  },
  {
   "cell_type": "code",
   "execution_count": 14,
   "id": "07fdd5d5",
   "metadata": {},
   "outputs": [
    {
     "data": {
      "text/plain": [
       "'Mon Feb  3 12:50:18 2025'"
      ]
     },
     "execution_count": 14,
     "metadata": {},
     "output_type": "execute_result"
    }
   ],
   "source": [
    "time.ctime() # Current time (string)"
   ]
  },
  {
   "cell_type": "code",
   "execution_count": 15,
   "id": "629230ac",
   "metadata": {},
   "outputs": [
    {
     "name": "stdout",
     "output_type": "stream",
     "text": [
      "Hello\n",
      "World\n"
     ]
    }
   ],
   "source": [
    "print(\"Hello\")\n",
    "time.sleep(1) # Delay for 5 seconds\n",
    "print(\"World\")"
   ]
  },
  {
   "cell_type": "markdown",
   "id": "4d026824",
   "metadata": {},
   "source": [
    "### Datetime Module"
   ]
  },
  {
   "cell_type": "code",
   "execution_count": 16,
   "id": "ec47dd18",
   "metadata": {},
   "outputs": [
    {
     "name": "stdout",
     "output_type": "stream",
     "text": [
      "2025-02-03 12:50:57.779962\n"
     ]
    }
   ],
   "source": [
    "import datetime\n",
    "print(datetime.datetime.now()) # Current date/time"
   ]
  },
  {
   "cell_type": "markdown",
   "id": "e222133f",
   "metadata": {},
   "source": [
    "### OS Module"
   ]
  },
  {
   "cell_type": "code",
   "execution_count": 17,
   "id": "2839f55c",
   "metadata": {},
   "outputs": [],
   "source": [
    "import os"
   ]
  },
  {
   "cell_type": "code",
   "execution_count": 18,
   "id": "d2eb69b8",
   "metadata": {},
   "outputs": [
    {
     "data": {
      "text/plain": [
       "'c:\\\\Users\\\\hp\\\\Desktop\\\\technoglob tour\\\\python-class\\\\100-days-of-python-programming\\\\100 Days Python'"
      ]
     },
     "execution_count": 18,
     "metadata": {},
     "output_type": "execute_result"
    }
   ],
   "source": [
    "os.getcwd() # Current working dir"
   ]
  },
  {
   "cell_type": "code",
   "execution_count": 22,
   "id": "a2a14d8d",
   "metadata": {},
   "outputs": [
    {
     "data": {
      "text/plain": [
       "['Day 01 - print-function.ipynb',\n",
       " 'Day 02 - data-types.ipynb',\n",
       " 'Day 03 - comments.ipynb',\n",
       " 'Day 04 - variables.ipynb',\n",
       " 'Day 05 - keywords-identifiers.ipynb',\n",
       " 'Day 06 - user-input-type-conv.ipynb',\n",
       " 'Day 07 - literals.ipynb',\n",
       " 'Day 08 - operators.ipynb',\n",
       " 'Day 09 - decision-control.ipynb',\n",
       " 'Day 10 - indentation.ipynb',\n",
       " 'Day 11 - while-loop.ipynb',\n",
       " 'Day 12 - guessing-game.ipynb',\n",
       " 'Day 13 - for-loop.ipynb',\n",
       " 'Day 14 - nested-loops.ipynb',\n",
       " 'Day 15 - break-continue-pass.ipynb',\n",
       " 'Day 16 - built-in-funcs.ipynb',\n",
       " 'Day 17 - built-in-modules.ipynb',\n",
       " 'Day 18 - strings.ipynb',\n",
       " 'Day 19 - list.ipynb',\n",
       " 'Day 20 - tuple.ipynb',\n",
       " 'Day 21 - sets.ipynb',\n",
       " 'Day 22 - dict.ipynb',\n",
       " 'Day 23 - deep-dive - mutability - gc - var-referencing.ipynb',\n",
       " 'Day 24 - funcs.ipynb',\n",
       " 'Day 25 - recursion - memoization.ipynb',\n",
       " 'Day 26 - lambda - map - filter - reduce.ipynb',\n",
       " 'Day 27 - oops.ipynb',\n",
       " 'Day 28 - threading - multi-processing.ipynb',\n",
       " 'Day 29 - iterators.ipynb',\n",
       " 'Day 30 - generators.ipynb',\n",
       " 'Day 31 - file-handling.ipynb',\n",
       " 'Day 32 - exception-handling.ipynb',\n",
       " 'Day 33 - namespaces - decorators.ipynb']"
      ]
     },
     "execution_count": 22,
     "metadata": {},
     "output_type": "execute_result"
    }
   ],
   "source": [
    "os.listdir() # Files in dir"
   ]
  },
  {
   "cell_type": "code",
   "execution_count": 19,
   "id": "599fbea4",
   "metadata": {},
   "outputs": [
    {
     "data": {
      "text/plain": [
       "20"
      ]
     },
     "execution_count": 19,
     "metadata": {},
     "output_type": "execute_result"
    }
   ],
   "source": [
    "10+10"
   ]
  },
  {
   "cell_type": "code",
   "execution_count": null,
   "id": "84afb533",
   "metadata": {},
   "outputs": [],
   "source": []
  },
  {
   "cell_type": "code",
   "execution_count": null,
   "id": "7a08f42f",
   "metadata": {},
   "outputs": [],
   "source": []
  }
 ],
 "metadata": {
  "kernelspec": {
   "display_name": "base",
   "language": "python",
   "name": "python3"
  },
  "language_info": {
   "codemirror_mode": {
    "name": "ipython",
    "version": 3
   },
   "file_extension": ".py",
   "mimetype": "text/x-python",
   "name": "python",
   "nbconvert_exporter": "python",
   "pygments_lexer": "ipython3",
   "version": "3.11.7"
  }
 },
 "nbformat": 4,
 "nbformat_minor": 5
}
