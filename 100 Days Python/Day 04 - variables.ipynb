{
 "cells": [
  {
   "cell_type": "markdown",
   "id": "f39ae936",
   "metadata": {},
   "source": [
    "**Static vs Dynamic Typing:**\n",
    "- **Dynamic Typing (Python)**: Types change during execution.\n",
    "- **Static Typing**: Fixed types before runtime.\n",
    "\n",
    "**Static vs Dynamic Binding:**\n",
    "- **Static Binding**: Types fixed at compile-time.\n",
    "- **Dynamic Binding**: Types associated at runtime, changeable during execution.\n",
    "\n",
    "**Stylish Declaration Techniques:**\n",
    "- Clear, efficient variable/structure declarations in Python.\n",
    "- Use Python's flexibility for concise, readable code."
   ]
  },
  {
   "cell_type": "code",
   "execution_count": 2,
   "id": "b276e683",
   "metadata": {},
   "outputs": [
    {
     "name": "stdout",
     "output_type": "stream",
     "text": [
      "10\n"
     ]
    }
   ],
   "source": [
    "a = 10\n",
    "c = 2.5\n",
    "\n",
    "print(a)"
   ]
  },
  {
   "cell_type": "code",
   "execution_count": 4,
   "id": "71888845",
   "metadata": {},
   "outputs": [
    {
     "data": {
      "text/plain": [
       "int"
      ]
     },
     "execution_count": 4,
     "metadata": {},
     "output_type": "execute_result"
    }
   ],
   "source": [
    "type(a)"
   ]
  },
  {
   "cell_type": "code",
   "execution_count": 5,
   "id": "baacf532",
   "metadata": {},
   "outputs": [],
   "source": [
    "c = (2,3,2.5,True)"
   ]
  },
  {
   "cell_type": "code",
   "execution_count": 6,
   "id": "3b99dc7a",
   "metadata": {},
   "outputs": [
    {
     "data": {
      "text/plain": [
       "(2, 3, 2.5, True)"
      ]
     },
     "execution_count": 6,
     "metadata": {},
     "output_type": "execute_result"
    }
   ],
   "source": [
    "c"
   ]
  },
  {
   "cell_type": "code",
   "execution_count": 1,
   "id": "6ff186bf",
   "metadata": {},
   "outputs": [],
   "source": [
    "# c\n",
    "int a = 5;"
   ]
  },
  {
   "cell_type": "code",
   "execution_count": 7,
   "id": "ad581204",
   "metadata": {},
   "outputs": [],
   "source": [
    "name = ('rahul','jatin','sachin','rajat')"
   ]
  },
  {
   "cell_type": "code",
   "execution_count": 8,
   "id": "5e0c08da",
   "metadata": {},
   "outputs": [
    {
     "name": "stdout",
     "output_type": "stream",
     "text": [
      "('rahul', 'jatin')\n"
     ]
    }
   ],
   "source": [
    "print(name)"
   ]
  },
  {
   "cell_type": "code",
   "execution_count": 9,
   "id": "503760ef",
   "metadata": {},
   "outputs": [
    {
     "data": {
      "text/plain": [
       "tuple"
      ]
     },
     "execution_count": 9,
     "metadata": {},
     "output_type": "execute_result"
    }
   ],
   "source": [
    "type(name)"
   ]
  },
  {
   "cell_type": "code",
   "execution_count": 10,
   "id": "a2f7579b",
   "metadata": {},
   "outputs": [],
   "source": [
    "name = 'Saurabh'"
   ]
  },
  {
   "cell_type": "code",
   "execution_count": 11,
   "id": "240c9a22",
   "metadata": {},
   "outputs": [
    {
     "name": "stdout",
     "output_type": "stream",
     "text": [
      "Saurabh\n"
     ]
    }
   ],
   "source": [
    "print(name)"
   ]
  },
  {
   "cell_type": "code",
   "execution_count": 12,
   "id": "1578812c",
   "metadata": {},
   "outputs": [
    {
     "data": {
      "text/plain": [
       "str"
      ]
     },
     "execution_count": 12,
     "metadata": {},
     "output_type": "execute_result"
    }
   ],
   "source": [
    "type(name)"
   ]
  },
  {
   "cell_type": "code",
   "execution_count": 4,
   "id": "440b727b",
   "metadata": {},
   "outputs": [
    {
     "name": "stdout",
     "output_type": "stream",
     "text": [
      "Hello World\n"
     ]
    }
   ],
   "source": [
    "name = 'Hello World'\n",
    "print(name)"
   ]
  },
  {
   "cell_type": "markdown",
   "id": "fdd4c2e2",
   "metadata": {},
   "source": [
    "**No Var Decl in Python**\n",
    "- Use vars **w/o prior decl**.\n",
    "- Assign val directly; Python auto-creates."
   ]
  },
  {
   "cell_type": "code",
   "execution_count": null,
   "id": "4946e220",
   "metadata": {},
   "outputs": [],
   "source": [
    "# Dynamic Typing (PHP)\n",
    "$a = 5;\n",
    "\n",
    "# Static Typing (Java)\n",
    "int a = 5;"
   ]
  },
  {
   "cell_type": "code",
   "execution_count": 7,
   "id": "2b86608d",
   "metadata": {},
   "outputs": [
    {
     "name": "stdout",
     "output_type": "stream",
     "text": [
      "Hello World\n"
     ]
    }
   ],
   "source": [
    "print(name)"
   ]
  },
  {
   "cell_type": "code",
   "execution_count": 8,
   "id": "2c6e4e24",
   "metadata": {},
   "outputs": [
    {
     "name": "stdout",
     "output_type": "stream",
     "text": [
      "4\n"
     ]
    }
   ],
   "source": [
    "name = 4\n",
    "print(name)"
   ]
  },
  {
   "cell_type": "code",
   "execution_count": 9,
   "id": "e2b4589a",
   "metadata": {},
   "outputs": [
    {
     "name": "stdout",
     "output_type": "stream",
     "text": [
      "True\n"
     ]
    }
   ],
   "source": [
    "name = True\n",
    "print(name)"
   ]
  },
  {
   "cell_type": "code",
   "execution_count": 1,
   "id": "a7d662a9",
   "metadata": {},
   "outputs": [
    {
     "name": "stdout",
     "output_type": "stream",
     "text": [
      "5\n",
      "nitish\n"
     ]
    }
   ],
   "source": [
    "# Dynamic Binding Example\n",
    "a = 5          # Assign integer\n",
    "print(a)\n",
    "\n",
    "a = 'nitish'   # Reassign string\n",
    "print(a)"
   ]
  },
  {
   "cell_type": "code",
   "execution_count": 11,
   "id": "1d237b00",
   "metadata": {},
   "outputs": [],
   "source": [
    "# Static Binding Example\n",
    "int a = 5"
   ]
  },
  {
   "cell_type": "code",
   "execution_count": 12,
   "id": "5e0542f7",
   "metadata": {},
   "outputs": [
    {
     "name": "stdout",
     "output_type": "stream",
     "text": [
      "5\n",
      "6\n",
      "7\n"
     ]
    }
   ],
   "source": [
    "# Special Syntax\n",
    "a = 5; b = 6; c = 7\n",
    "\n",
    "print(a)\n",
    "print(b)\n",
    "print(c)"
   ]
  },
  {
   "cell_type": "code",
   "execution_count": 13,
   "id": "a2161680",
   "metadata": {},
   "outputs": [
    {
     "name": "stdout",
     "output_type": "stream",
     "text": [
      "5\n",
      "6\n",
      "7\n"
     ]
    }
   ],
   "source": [
    "a, b, c = 5, 6, 7\n",
    "\n",
    "print(a)\n",
    "print(b)\n",
    "print(c)"
   ]
  },
  {
   "cell_type": "code",
   "execution_count": 2,
   "id": "7100ea88",
   "metadata": {},
   "outputs": [
    {
     "name": "stdout",
     "output_type": "stream",
     "text": [
      "6 6 6\n"
     ]
    }
   ],
   "source": [
    "a = b = c = 6\n",
    "\n",
    "print(a, b, c)"
   ]
  }
 ],
 "metadata": {
  "kernelspec": {
   "display_name": "base",
   "language": "python",
   "name": "python3"
  },
  "language_info": {
   "codemirror_mode": {
    "name": "ipython",
    "version": 3
   },
   "file_extension": ".py",
   "mimetype": "text/x-python",
   "name": "python",
   "nbconvert_exporter": "python",
   "pygments_lexer": "ipython3",
   "version": "3.11.7"
  }
 },
 "nbformat": 4,
 "nbformat_minor": 5
}
