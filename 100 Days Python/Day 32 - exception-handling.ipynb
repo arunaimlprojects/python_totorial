{
 "cells": [
  {
   "cell_type": "markdown",
   "metadata": {
    "id": "xh7vgT_4-gdB"
   },
   "source": [
    "## Programming Errors\n",
    "\n",
    "1. **Compilation** (High-level ---> Machine code)\n",
    "   \n",
    "   Syntax Errors: Violates syntax rules.\n",
    "\n",
    "   **Syntax Error**\n",
    "\n",
    "   Error from code not following language rules.\n",
    "\n",
    "   - **Caused by** missing parenthesis, Incorrect indentation, Misspelled keyword\n",
    "   \n",
    "   - **Detected when** Interpreter/Compiler raises syntax error; code can't run until fixed.\n",
    "   \n",
    "   - **Resolution** is to identify and correct grammatical issues to match syntax rules.\n",
    "\n",
    "2. **Execution** (Runtime Errors)\n",
    "\n",
    "   Exceptions: Issues during runtime."
   ]
  },
  {
   "cell_type": "code",
   "execution_count": 1,
   "metadata": {},
   "outputs": [
    {
     "name": "stdout",
     "output_type": "stream",
     "text": [
      "Common built-in exceptions in Python:\n",
      "BaseException\n",
      "Exception\n",
      "ArithmeticError\n",
      "BufferError\n",
      "LookupError\n",
      "AssertionError\n",
      "AttributeError\n",
      "EOFError\n",
      "FloatingPointError\n",
      "GeneratorExit\n",
      "ImportError\n",
      "ModuleNotFoundError\n",
      "IndexError\n",
      "KeyError\n",
      "KeyboardInterrupt\n",
      "MemoryError\n",
      "NameError\n",
      "NotImplementedError\n",
      "OSError\n",
      "OverflowError\n",
      "RecursionError\n",
      "ReferenceError\n",
      "RuntimeError\n",
      "StopIteration\n",
      "SyntaxError\n",
      "IndentationError\n",
      "TabError\n",
      "SystemError\n",
      "SystemExit\n",
      "TypeError\n",
      "UnboundLocalError\n",
      "UnicodeError\n",
      "UnicodeEncodeError\n",
      "UnicodeDecodeError\n",
      "UnicodeTranslateError\n",
      "ValueError\n",
      "ZeroDivisionError\n"
     ]
    },
    {
     "name": "stdout",
     "output_type": "stream",
     "text": [
      "ERROR! Session/line number was not unique in database. History logging moved to new session 203\n"
     ]
    }
   ],
   "source": [
    "# Common built-in exceptions in Python\n",
    "\n",
    "exceptions = [\n",
    "    'BaseException', 'Exception', 'ArithmeticError', 'BufferError', 'LookupError',\n",
    "    'AssertionError', 'AttributeError', 'EOFError', 'FloatingPointError', 'GeneratorExit',\n",
    "    'ImportError', 'ModuleNotFoundError', 'IndexError', 'KeyError', 'KeyboardInterrupt',\n",
    "    'MemoryError', 'NameError', 'NotImplementedError', 'OSError', 'OverflowError',\n",
    "    'RecursionError', 'ReferenceError', 'RuntimeError', 'StopIteration', 'SyntaxError',\n",
    "    'IndentationError', 'TabError', 'SystemError', 'SystemExit', 'TypeError',\n",
    "    'UnboundLocalError', 'UnicodeError', 'UnicodeEncodeError', 'UnicodeDecodeError',\n",
    "    'UnicodeTranslateError', 'ValueError', 'ZeroDivisionError'\n",
    "]\n",
    "\n",
    "print(\"Common built-in exceptions in Python:\")\n",
    "for exc in exceptions:\n",
    "    print(exc)"
   ]
  },
  {
   "cell_type": "code",
   "execution_count": null,
   "metadata": {},
   "outputs": [],
   "source": [
    "# Common built-in exceptions in Python\n",
    "\n",
    "exceptions = [\n",
    "    'BaseException', 'Exception', 'ArithmeticError', 'BufferError', 'LookupError',\n",
    "    'AssertionError', 'AttributeError', 'EOFError', 'FloatingPointError', 'GeneratorExit',\n",
    "    'ImportError', 'ModuleNotFoundError', 'IndexError', 'KeyError', 'KeyboardInterrupt',\n",
    "    'MemoryError', 'NameError', 'NotImplementedError', 'OSError', 'OverflowError',\n",
    "    'RecursionError', 'ReferenceError', 'RuntimeError', 'StopIteration', 'SyntaxError',\n",
    "    'IndentationError', 'TabError', 'SystemError', 'SystemExit', 'TypeError',\n",
    "    'UnboundLocalError', 'UnicodeError', 'UnicodeEncodeError', 'UnicodeDecodeError',\n",
    "    'UnicodeTranslateError', 'ValueError', 'ZeroDivisionError'\n",
    "]\n",
    "\n",
    "print(\"Common built-in exceptions in Python:\")\n",
    "for exc in exceptions:\n",
    "    print(exc)"
   ]
  },
  {
   "cell_type": "code",
   "execution_count": null,
   "metadata": {},
   "outputs": [
    {
     "name": "stdout",
     "output_type": "stream",
     "text": [
      "This is a BaseException\n",
      "This is a general Exception\n",
      "division by zero\n",
      "This is a BufferError\n",
      "'key'\n",
      "This is an AssertionError\n",
      "'list' object has no attribute 'non_existent_method'\n",
      "This is an EOFError\n",
      "This is a FloatingPointError\n",
      "\n",
      "No module named 'non_existent_module'\n",
      "No module named 'non_existent_module'\n",
      "list index out of range\n",
      "'key'\n",
      "\n",
      "name 'non_existent_variable' is not defined\n",
      "This is a NotImplementedError\n",
      "[Errno 2] No such file or directory: '/non_existent_file.txt'\n",
      "math range error\n",
      "maximum recursion depth exceeded\n",
      "None\n",
      "This is a RuntimeError\n",
      "\n",
      "This is a SystemError\n",
      "This is a SystemExit\n",
      "can only concatenate str (not \"int\") to str\n",
      "cannot access local variable 'x' where it is not associated with a value\n",
      "'ascii' codec can't encode character '\\xfc' in position 0: ordinal not in range(128)\n",
      "'utf-8' codec can't decode byte 0x80 in position 0: invalid start byte\n",
      "invalid literal for int() with base 10: 'string'\n",
      "division by zero\n"
     ]
    },
    {
     "ename": "KeyboardInterrupt",
     "evalue": "",
     "output_type": "error",
     "traceback": [
      "\u001b[1;31m---------------------------------------------------------------------------\u001b[0m",
      "\u001b[1;31mKeyboardInterrupt\u001b[0m                         Traceback (most recent call last)",
      "File \u001b[1;32mc:\\Users\\hp\\anaconda3\\Lib\\site-packages\\IPython\\core\\async_helpers.py:129\u001b[0m, in \u001b[0;36m_pseudo_sync_runner\u001b[1;34m(coro)\u001b[0m\n\u001b[0;32m    121\u001b[0m \u001b[38;5;250m\u001b[39m\u001b[38;5;124;03m\"\"\"\u001b[39;00m\n\u001b[0;32m    122\u001b[0m \u001b[38;5;124;03mA runner that does not really allow async execution, and just advance the coroutine.\u001b[39;00m\n\u001b[0;32m    123\u001b[0m \n\u001b[1;32m   (...)\u001b[0m\n\u001b[0;32m    126\u001b[0m \u001b[38;5;124;03mCredit to Nathaniel Smith\u001b[39;00m\n\u001b[0;32m    127\u001b[0m \u001b[38;5;124;03m\"\"\"\u001b[39;00m\n\u001b[0;32m    128\u001b[0m \u001b[38;5;28;01mtry\u001b[39;00m:\n\u001b[1;32m--> 129\u001b[0m     coro\u001b[38;5;241m.\u001b[39msend(\u001b[38;5;28;01mNone\u001b[39;00m)\n\u001b[0;32m    130\u001b[0m \u001b[38;5;28;01mexcept\u001b[39;00m \u001b[38;5;167;01mStopIteration\u001b[39;00m \u001b[38;5;28;01mas\u001b[39;00m exc:\n\u001b[0;32m    131\u001b[0m     \u001b[38;5;28;01mreturn\u001b[39;00m exc\u001b[38;5;241m.\u001b[39mvalue\n",
      "File \u001b[1;32mc:\\Users\\hp\\anaconda3\\Lib\\site-packages\\IPython\\core\\interactiveshell.py:3337\u001b[0m, in \u001b[0;36mInteractiveShell.run_cell_async\u001b[1;34m(self, raw_cell, store_history, silent, shell_futures, transformed_cell, preprocessing_exc_tuple, cell_id)\u001b[0m\n\u001b[0;32m   3331\u001b[0m interactivity \u001b[38;5;241m=\u001b[39m \u001b[38;5;124m\"\u001b[39m\u001b[38;5;124mnone\u001b[39m\u001b[38;5;124m\"\u001b[39m \u001b[38;5;28;01mif\u001b[39;00m silent \u001b[38;5;28;01melse\u001b[39;00m \u001b[38;5;28mself\u001b[39m\u001b[38;5;241m.\u001b[39mast_node_interactivity\n\u001b[0;32m   3334\u001b[0m has_raised \u001b[38;5;241m=\u001b[39m \u001b[38;5;28;01mawait\u001b[39;00m \u001b[38;5;28mself\u001b[39m\u001b[38;5;241m.\u001b[39mrun_ast_nodes(code_ast\u001b[38;5;241m.\u001b[39mbody, cell_name,\n\u001b[0;32m   3335\u001b[0m        interactivity\u001b[38;5;241m=\u001b[39minteractivity, compiler\u001b[38;5;241m=\u001b[39mcompiler, result\u001b[38;5;241m=\u001b[39mresult)\n\u001b[1;32m-> 3337\u001b[0m \u001b[38;5;28mself\u001b[39m\u001b[38;5;241m.\u001b[39mlast_execution_succeeded \u001b[38;5;241m=\u001b[39m \u001b[38;5;129;01mnot\u001b[39;00m has_raised\n\u001b[0;32m   3338\u001b[0m \u001b[38;5;28mself\u001b[39m\u001b[38;5;241m.\u001b[39mlast_execution_result \u001b[38;5;241m=\u001b[39m result\n\u001b[0;32m   3340\u001b[0m \u001b[38;5;66;03m# Reset this so later displayed values do not modify the\u001b[39;00m\n\u001b[0;32m   3341\u001b[0m \u001b[38;5;66;03m# ExecutionResult\u001b[39;00m\n",
      "File \u001b[1;32mc:\\Users\\hp\\anaconda3\\Lib\\site-packages\\traitlets\\traitlets.py:716\u001b[0m, in \u001b[0;36mTraitType.__set__\u001b[1;34m(self, obj, value)\u001b[0m\n\u001b[0;32m    714\u001b[0m \u001b[38;5;28;01mif\u001b[39;00m \u001b[38;5;28mself\u001b[39m\u001b[38;5;241m.\u001b[39mread_only:\n\u001b[0;32m    715\u001b[0m     \u001b[38;5;28;01mraise\u001b[39;00m TraitError(\u001b[38;5;124m'\u001b[39m\u001b[38;5;124mThe \u001b[39m\u001b[38;5;124m\"\u001b[39m\u001b[38;5;132;01m%s\u001b[39;00m\u001b[38;5;124m\"\u001b[39m\u001b[38;5;124m trait is read-only.\u001b[39m\u001b[38;5;124m'\u001b[39m \u001b[38;5;241m%\u001b[39m \u001b[38;5;28mself\u001b[39m\u001b[38;5;241m.\u001b[39mname)\n\u001b[1;32m--> 716\u001b[0m \u001b[38;5;28mself\u001b[39m\u001b[38;5;241m.\u001b[39mset(obj, value)\n",
      "File \u001b[1;32mc:\\Users\\hp\\anaconda3\\Lib\\site-packages\\traitlets\\traitlets.py:690\u001b[0m, in \u001b[0;36mTraitType.set\u001b[1;34m(self, obj, value)\u001b[0m\n\u001b[0;32m    689\u001b[0m \u001b[38;5;28;01mdef\u001b[39;00m \u001b[38;5;21mset\u001b[39m(\u001b[38;5;28mself\u001b[39m, obj: HasTraits, value: S) \u001b[38;5;241m-\u001b[39m\u001b[38;5;241m>\u001b[39m \u001b[38;5;28;01mNone\u001b[39;00m:\n\u001b[1;32m--> 690\u001b[0m     new_value \u001b[38;5;241m=\u001b[39m \u001b[38;5;28mself\u001b[39m\u001b[38;5;241m.\u001b[39m_validate(obj, value)\n\u001b[0;32m    691\u001b[0m     \u001b[38;5;28;01massert\u001b[39;00m \u001b[38;5;28mself\u001b[39m\u001b[38;5;241m.\u001b[39mname \u001b[38;5;129;01mis\u001b[39;00m \u001b[38;5;129;01mnot\u001b[39;00m \u001b[38;5;28;01mNone\u001b[39;00m\n\u001b[0;32m    692\u001b[0m     \u001b[38;5;28;01mtry\u001b[39;00m:\n",
      "File \u001b[1;32mc:\\Users\\hp\\anaconda3\\Lib\\site-packages\\traitlets\\traitlets.py:724\u001b[0m, in \u001b[0;36mTraitType._validate\u001b[1;34m(self, obj, value)\u001b[0m\n\u001b[0;32m    722\u001b[0m     value \u001b[38;5;241m=\u001b[39m \u001b[38;5;28mself\u001b[39m\u001b[38;5;241m.\u001b[39mvalidate(obj, value)\n\u001b[0;32m    723\u001b[0m \u001b[38;5;28;01mif\u001b[39;00m obj\u001b[38;5;241m.\u001b[39m_cross_validation_lock \u001b[38;5;129;01mis\u001b[39;00m \u001b[38;5;28;01mFalse\u001b[39;00m:\n\u001b[1;32m--> 724\u001b[0m     value \u001b[38;5;241m=\u001b[39m \u001b[38;5;28mself\u001b[39m\u001b[38;5;241m.\u001b[39m_cross_validate(obj, value)\n\u001b[0;32m    725\u001b[0m \u001b[38;5;28;01mreturn\u001b[39;00m t\u001b[38;5;241m.\u001b[39mcast(G, value)\n",
      "File \u001b[1;32mc:\\Users\\hp\\anaconda3\\Lib\\site-packages\\traitlets\\traitlets.py:741\u001b[0m, in \u001b[0;36mTraitType._cross_validate\u001b[1;34m(self, obj, value)\u001b[0m\n\u001b[0;32m    734\u001b[0m     deprecated_method(\n\u001b[0;32m    735\u001b[0m         cross_validate,\n\u001b[0;32m    736\u001b[0m         obj\u001b[38;5;241m.\u001b[39m\u001b[38;5;18m__class__\u001b[39m,\n\u001b[0;32m    737\u001b[0m         meth_name,\n\u001b[0;32m    738\u001b[0m         \u001b[38;5;124m\"\u001b[39m\u001b[38;5;124muse @validate decorator instead.\u001b[39m\u001b[38;5;124m\"\u001b[39m,\n\u001b[0;32m    739\u001b[0m     )\n\u001b[0;32m    740\u001b[0m     value \u001b[38;5;241m=\u001b[39m cross_validate(value, \u001b[38;5;28mself\u001b[39m)\n\u001b[1;32m--> 741\u001b[0m \u001b[38;5;28;01mreturn\u001b[39;00m t\u001b[38;5;241m.\u001b[39mcast(G, value)\n",
      "File \u001b[1;32mc:\\Users\\hp\\anaconda3\\Lib\\typing.py:2268\u001b[0m, in \u001b[0;36mcast\u001b[1;34m(typ, val)\u001b[0m\n\u001b[0;32m   2264\u001b[0m     \u001b[38;5;28mcls\u001b[39m\u001b[38;5;241m.\u001b[39m_is_runtime_protocol \u001b[38;5;241m=\u001b[39m \u001b[38;5;28;01mTrue\u001b[39;00m\n\u001b[0;32m   2265\u001b[0m     \u001b[38;5;28;01mreturn\u001b[39;00m \u001b[38;5;28mcls\u001b[39m\n\u001b[1;32m-> 2268\u001b[0m \u001b[38;5;28;01mdef\u001b[39;00m \u001b[38;5;21mcast\u001b[39m(typ, val):\n\u001b[0;32m   2269\u001b[0m \u001b[38;5;250m    \u001b[39m\u001b[38;5;124;03m\"\"\"Cast a value to a type.\u001b[39;00m\n\u001b[0;32m   2270\u001b[0m \n\u001b[0;32m   2271\u001b[0m \u001b[38;5;124;03m    This returns the value unchanged.  To the type checker this\u001b[39;00m\n\u001b[1;32m   (...)\u001b[0m\n\u001b[0;32m   2274\u001b[0m \u001b[38;5;124;03m    to be as fast as possible).\u001b[39;00m\n\u001b[0;32m   2275\u001b[0m \u001b[38;5;124;03m    \"\"\"\u001b[39;00m\n\u001b[0;32m   2276\u001b[0m     \u001b[38;5;28;01mreturn\u001b[39;00m val\n",
      "\u001b[1;31mKeyboardInterrupt\u001b[0m: "
     ]
    }
   ],
   "source": [
    "# BaseException\n",
    "try:\n",
    "    raise BaseException(\"This is a BaseException\")\n",
    "except BaseException as e:\n",
    "    print(e)\n",
    "\n",
    "# Exception\n",
    "try:\n",
    "    raise Exception(\"This is a general Exception\")\n",
    "except Exception as e:\n",
    "    print(e)\n",
    "\n",
    "# ArithmeticError\n",
    "try:\n",
    "    result = 1 / 0\n",
    "except ArithmeticError as e:\n",
    "    print(e)\n",
    "\n",
    "# BufferError\n",
    "try:\n",
    "    raise BufferError(\"This is a BufferError\")\n",
    "except BufferError as e:\n",
    "    print(e)\n",
    "\n",
    "# LookupError\n",
    "try:\n",
    "    my_dict = {}\n",
    "    print(my_dict[\"key\"])\n",
    "except LookupError as e:\n",
    "    print(e)\n",
    "\n",
    "# AssertionError\n",
    "try:\n",
    "    assert False, \"This is an AssertionError\"\n",
    "except AssertionError as e:\n",
    "    print(e)\n",
    "\n",
    "# AttributeError\n",
    "try:\n",
    "    [].non_existent_method()\n",
    "except AttributeError as e:\n",
    "    print(e)\n",
    "\n",
    "# EOFError\n",
    "try:\n",
    "    raise EOFError(\"This is an EOFError\")\n",
    "except EOFError as e:\n",
    "    print(e)\n",
    "\n",
    "# FloatingPointError\n",
    "try:\n",
    "    raise FloatingPointError(\"This is a FloatingPointError\")\n",
    "except FloatingPointError as e:\n",
    "    print(e)\n",
    "\n",
    "# GeneratorExit\n",
    "def generator():\n",
    "    try:\n",
    "        yield\n",
    "    except GeneratorExit as e:\n",
    "        print(e)\n",
    "\n",
    "gen = generator()\n",
    "next(gen)\n",
    "gen.close()\n",
    "\n",
    "# ImportError\n",
    "try:\n",
    "    import non_existent_module\n",
    "except ImportError as e:\n",
    "    print(e)\n",
    "\n",
    "# ModuleNotFoundError\n",
    "try:\n",
    "    import non_existent_module\n",
    "except ModuleNotFoundError as e:\n",
    "    print(e)\n",
    "\n",
    "# IndexError\n",
    "try:\n",
    "    my_list = []\n",
    "    print(my_list[1])\n",
    "except IndexError as e:\n",
    "    print(e)\n",
    "\n",
    "# KeyError\n",
    "try:\n",
    "    my_dict = {}\n",
    "    print(my_dict[\"key\"])\n",
    "except KeyError as e:\n",
    "    print(e)\n",
    "\n",
    "# KeyboardInterrupt\n",
    "# This exception is raised when the user hits the interrupt key (normally Control-C or Delete).\n",
    "# It is not practical to demonstrate this in a script.\n",
    "\n",
    "# MemoryError\n",
    "try:\n",
    "    a = []\n",
    "    while True:\n",
    "        a.append(' ' * 10**6)\n",
    "except MemoryError as e:\n",
    "    print(e)\n",
    "\n",
    "# NameError\n",
    "try:\n",
    "    print(non_existent_variable)\n",
    "except NameError as e:\n",
    "    print(e)\n",
    "\n",
    "# NotImplementedError\n",
    "try:\n",
    "    raise NotImplementedError(\"This is a NotImplementedError\")\n",
    "except NotImplementedError as e:\n",
    "    print(e)\n",
    "\n",
    "# OSError\n",
    "try:\n",
    "    open('/non_existent_file.txt')\n",
    "except OSError as e:\n",
    "    print(e)\n",
    "\n",
    "# OverflowError\n",
    "try:\n",
    "    import math\n",
    "    print(math.exp(1000))\n",
    "except OverflowError as e:\n",
    "    print(e)\n",
    "\n",
    "# RecursionError\n",
    "try:\n",
    "    def recurse():\n",
    "        recurse()\n",
    "    recurse()\n",
    "except RecursionError as e:\n",
    "    print(e)\n",
    "\n",
    "# ReferenceError\n",
    "import weakref\n",
    "try:\n",
    "    class A:\n",
    "        pass\n",
    "    a = A()\n",
    "    r = weakref.ref(a)\n",
    "    del a\n",
    "    print(r())\n",
    "except ReferenceError as e:\n",
    "    print(e)\n",
    "\n",
    "# RuntimeError\n",
    "try:\n",
    "    raise RuntimeError(\"This is a RuntimeError\")\n",
    "except RuntimeError as e:\n",
    "    print(e)\n",
    "\n",
    "# StopIteration\n",
    "try:\n",
    "    it = iter([])\n",
    "    next(it)\n",
    "except StopIteration as e:\n",
    "    print(e)\n",
    "\n",
    "# SyntaxError\n",
    "# SyntaxError is raised by the parser and cannot be caught in the same code block.\n",
    "# Example:\n",
    "# try:\n",
    "#     eval('x === x')\n",
    "# except SyntaxError as e:\n",
    "#     print(e)\n",
    "\n",
    "# IndentationError\n",
    "# IndentationError is a subclass of SyntaxError and cannot be caught in the same code block.\n",
    "# Example:\n",
    "# try:\n",
    "#     eval('def func():\\n  pass')\n",
    "# except IndentationError as e:\n",
    "#     print(e)\n",
    "\n",
    "# TabError\n",
    "# TabError is a subclass of IndentationError and cannot be caught in the same code block.\n",
    "# Example:\n",
    "# try:\n",
    "#     eval('def func():\\n\\tpass')\n",
    "# except TabError as e:\n",
    "#     print(e)\n",
    "\n",
    "# SystemError\n",
    "try:\n",
    "    raise SystemError(\"This is a SystemError\")\n",
    "except SystemError as e:\n",
    "    print(e)\n",
    "\n",
    "# SystemExit\n",
    "try:\n",
    "    raise SystemExit(\"This is a SystemExit\")\n",
    "except SystemExit as e:\n",
    "    print(e)\n",
    "\n",
    "# TypeError\n",
    "try:\n",
    "    '1' + 1\n",
    "except TypeError as e:\n",
    "    print(e)\n",
    "\n",
    "# UnboundLocalError\n",
    "try:\n",
    "    def func():\n",
    "        print(x)\n",
    "        x = 1\n",
    "    func()\n",
    "except UnboundLocalError as e:\n",
    "    print(e)\n",
    "\n",
    "# UnicodeError\n",
    "try:\n",
    "    'ascii'.encode('ascii').decode('utf-8')\n",
    "except UnicodeError as e:\n",
    "    print(e)\n",
    "\n",
    "# UnicodeEncodeError\n",
    "try:\n",
    "    'ü'.encode('ascii')\n",
    "except UnicodeEncodeError as e:\n",
    "    print(e)\n",
    "\n",
    "# UnicodeDecodeError\n",
    "try:\n",
    "    b'\\x80'.decode('utf-8')\n",
    "except UnicodeDecodeError as e:\n",
    "    print(e)\n",
    "\n",
    "# UnicodeTranslateError\n",
    "try:\n",
    "    'ü'.encode('ascii', 'replace')\n",
    "except UnicodeTranslateError as e:\n",
    "    print(e)\n",
    "\n",
    "# ValueError\n",
    "try:\n",
    "    int('string')\n",
    "except ValueError as e:\n",
    "    print(e)\n",
    "\n",
    "# ZeroDivisionError\n",
    "try:\n",
    "    result = 1 / 0\n",
    "except ZeroDivisionError as e:\n",
    "    print(e)"
   ]
  },
  {
   "cell_type": "code",
   "execution_count": 5,
   "metadata": {},
   "outputs": [
    {
     "name": "stdout",
     "output_type": "stream",
     "text": [
      "name 'b' is not defined\n"
     ]
    }
   ],
   "source": [
    "try:\n",
    "    a = 10\n",
    "    c = 20\n",
    "    print(a + b)\n",
    "    raise NameError(\"This is a NameError\")\n",
    "except NameError as e:\n",
    "    print(e)    "
   ]
  },
  {
   "cell_type": "code",
   "execution_count": 10,
   "metadata": {},
   "outputs": [
    {
     "ename": "NameError",
     "evalue": "name 'b' is not defined",
     "output_type": "error",
     "traceback": [
      "\u001b[1;31m---------------------------------------------------------------------------\u001b[0m",
      "\u001b[1;31mNameError\u001b[0m                                 Traceback (most recent call last)",
      "Cell \u001b[1;32mIn[10], line 4\u001b[0m\n\u001b[0;32m      2\u001b[0m     a \u001b[38;5;241m=\u001b[39m \u001b[38;5;241m10\u001b[39m\n\u001b[0;32m      3\u001b[0m     c \u001b[38;5;241m=\u001b[39m \u001b[38;5;241m20\u001b[39m\n\u001b[1;32m----> 4\u001b[0m     \u001b[38;5;28mprint\u001b[39m(a \u001b[38;5;241m+\u001b[39m b)\n\u001b[0;32m      6\u001b[0m \u001b[38;5;28;01mexcept\u001b[39;00m \u001b[38;5;167;01mFileNotFoundError\u001b[39;00m \u001b[38;5;28;01mas\u001b[39;00m e:\n\u001b[0;32m      7\u001b[0m     \u001b[38;5;28mprint\u001b[39m(e)\n",
      "\u001b[1;31mNameError\u001b[0m: name 'b' is not defined"
     ]
    }
   ],
   "source": [
    "try:\n",
    "    a = 10\n",
    "    c = 20\n",
    "    print(a + b)\n",
    "    \n",
    "except FileNotFoundError as e:\n",
    "    print(e)"
   ]
  },
  {
   "cell_type": "code",
   "execution_count": null,
   "metadata": {
    "colab": {
     "base_uri": "https://localhost:8080/",
     "height": 133
    },
    "id": "sgsgNEc--1ux",
    "outputId": "f973a81c-d579-4259-dcea-19d380fbaaa8"
   },
   "outputs": [
    {
     "ename": "SyntaxError",
     "evalue": "ignored",
     "output_type": "error",
     "traceback": [
      "\u001b[0;36m  File \u001b[0;32m\"<ipython-input-3-4655b84ba7b7>\"\u001b[0;36m, line \u001b[0;32m2\u001b[0m\n\u001b[0;31m    print 'hello world'\u001b[0m\n\u001b[0m                      ^\u001b[0m\n\u001b[0;31mSyntaxError\u001b[0m\u001b[0;31m:\u001b[0m Missing parentheses in call to 'print'. Did you mean print('hello world')?\n"
     ]
    }
   ],
   "source": [
    "# Syntax Error Examples\n",
    "\n",
    "print 'hello world'"
   ]
  },
  {
   "cell_type": "markdown",
   "metadata": {
    "id": "502wvB8BGO0K"
   },
   "source": [
    "## Syntax Errors: Key Points\n",
    "\n",
    "- **Missing Symbols**: E.g., colons, brackets ---> disrupts code structure.\n",
    "- **Misspelled Keywords**: Reserved words ---> unrecognized commands.\n",
    "- **Incorrect Indentation**: Critical in Python ---> wrong block interpretation.\n",
    "- **Empty Control Structures**: `if/else`, loops, functions ---> must include executable code or placeholders."
   ]
  },
  {
   "cell_type": "code",
   "execution_count": null,
   "metadata": {
    "colab": {
     "base_uri": "https://localhost:8080/",
     "height": 133
    },
    "id": "gd_SjrGDGTcU",
    "outputId": "5623d424-d264-45ec-cbc9-6ad6834f89ea"
   },
   "outputs": [
    {
     "ename": "SyntaxError",
     "evalue": "ignored",
     "output_type": "error",
     "traceback": [
      "\u001b[0;36m  File \u001b[0;32m\"<ipython-input-68-efc58c10458d>\"\u001b[0;36m, line \u001b[0;32m2\u001b[0m\n\u001b[0;31m    if a==3\u001b[0m\n\u001b[0m           ^\u001b[0m\n\u001b[0;31mSyntaxError\u001b[0m\u001b[0;31m:\u001b[0m invalid syntax\n"
     ]
    }
   ],
   "source": [
    "a = 5\n",
    "\n",
    "if a == 3\n",
    "  print('hello')"
   ]
  },
  {
   "cell_type": "code",
   "execution_count": null,
   "metadata": {
    "colab": {
     "base_uri": "https://localhost:8080/",
     "height": 133
    },
    "id": "eq0Y-v_MGTmR",
    "outputId": "9ccfb071-fc71-4540-fda7-05542f9b26d3"
   },
   "outputs": [
    {
     "ename": "SyntaxError",
     "evalue": "ignored",
     "output_type": "error",
     "traceback": [
      "\u001b[0;36m  File \u001b[0;32m\"<ipython-input-69-d1e6fae154d5>\"\u001b[0;36m, line \u001b[0;32m2\u001b[0m\n\u001b[0;31m    iff a==3:\u001b[0m\n\u001b[0m        ^\u001b[0m\n\u001b[0;31mSyntaxError\u001b[0m\u001b[0;31m:\u001b[0m invalid syntax\n"
     ]
    }
   ],
   "source": [
    "a = 5\n",
    "\n",
    "iff a == 3:\n",
    "  print('hello')"
   ]
  },
  {
   "cell_type": "code",
   "execution_count": null,
   "metadata": {
    "colab": {
     "base_uri": "https://localhost:8080/",
     "height": 133
    },
    "id": "Llm9KioiGTwe",
    "outputId": "04702c51-21de-4138-9402-4d8ef3a59c8f",
    "scrolled": true
   },
   "outputs": [
    {
     "ename": "IndentationError",
     "evalue": "ignored",
     "output_type": "error",
     "traceback": [
      "\u001b[0;36m  File \u001b[0;32m\"<ipython-input-70-ccc702dc036c>\"\u001b[0;36m, line \u001b[0;32m3\u001b[0m\n\u001b[0;31m    print('hello')\u001b[0m\n\u001b[0m        ^\u001b[0m\n\u001b[0;31mIndentationError\u001b[0m\u001b[0;31m:\u001b[0m expected an indented block\n"
     ]
    }
   ],
   "source": [
    "a = 5\n",
    "\n",
    "if a == 3:\n",
    "print('hello')"
   ]
  },
  {
   "cell_type": "code",
   "execution_count": null,
   "metadata": {
    "colab": {
     "base_uri": "https://localhost:8080/",
     "height": 205
    },
    "id": "KZQFu9zdEuFC",
    "outputId": "546e9247-b4a2-4c14-b822-4c6c00264f30"
   },
   "outputs": [
    {
     "ename": "IndexError",
     "evalue": "ignored",
     "output_type": "error",
     "traceback": [
      "\u001b[0;31m---------------------------------------------------------------------------\u001b[0m",
      "\u001b[0;31mIndexError\u001b[0m                                Traceback (most recent call last)",
      "\u001b[0;32m<ipython-input-71-c90668d2b194>\u001b[0m in \u001b[0;36m<module>\u001b[0;34m\u001b[0m\n\u001b[1;32m      2\u001b[0m \u001b[0;31m# The IndexError is thrown when trying to access an item at an invalid index.\u001b[0m\u001b[0;34m\u001b[0m\u001b[0;34m\u001b[0m\u001b[0;34m\u001b[0m\u001b[0m\n\u001b[1;32m      3\u001b[0m \u001b[0mL\u001b[0m \u001b[0;34m=\u001b[0m \u001b[0;34m[\u001b[0m\u001b[0;36m1\u001b[0m\u001b[0;34m,\u001b[0m\u001b[0;36m2\u001b[0m\u001b[0;34m,\u001b[0m\u001b[0;36m3\u001b[0m\u001b[0;34m]\u001b[0m\u001b[0;34m\u001b[0m\u001b[0;34m\u001b[0m\u001b[0m\n\u001b[0;32m----> 4\u001b[0;31m \u001b[0mL\u001b[0m\u001b[0;34m[\u001b[0m\u001b[0;36m100\u001b[0m\u001b[0;34m]\u001b[0m\u001b[0;34m\u001b[0m\u001b[0;34m\u001b[0m\u001b[0m\n\u001b[0m",
      "\u001b[0;31mIndexError\u001b[0m: list index out of range"
     ]
    }
   ],
   "source": [
    "# 1. IndexError: Accessing invalid index.\n",
    "\n",
    "L = [1, 2, 3]\n",
    "L[100]"
   ]
  },
  {
   "cell_type": "code",
   "execution_count": null,
   "metadata": {
    "colab": {
     "base_uri": "https://localhost:8080/",
     "height": 366
    },
    "id": "FfoXlpAGE1rW",
    "outputId": "b5800421-3a3d-4293-fad6-fb49227da0e6"
   },
   "outputs": [
    {
     "ename": "ModuleNotFoundError",
     "evalue": "ignored",
     "output_type": "error",
     "traceback": [
      "\u001b[0;31m---------------------------------------------------------------------------\u001b[0m",
      "\u001b[0;31mModuleNotFoundError\u001b[0m                       Traceback (most recent call last)",
      "\u001b[0;32m<ipython-input-73-cbdaf00191df>\u001b[0m in \u001b[0;36m<module>\u001b[0;34m\u001b[0m\n\u001b[1;32m      1\u001b[0m \u001b[0;31m# ModuleNotFoundError\u001b[0m\u001b[0;34m\u001b[0m\u001b[0;34m\u001b[0m\u001b[0;34m\u001b[0m\u001b[0m\n\u001b[1;32m      2\u001b[0m \u001b[0;31m# The ModuleNotFoundError is thrown when a module could not be found.\u001b[0m\u001b[0;34m\u001b[0m\u001b[0;34m\u001b[0m\u001b[0;34m\u001b[0m\u001b[0m\n\u001b[0;32m----> 3\u001b[0;31m \u001b[0;32mimport\u001b[0m \u001b[0mmathi\u001b[0m\u001b[0;34m\u001b[0m\u001b[0;34m\u001b[0m\u001b[0m\n\u001b[0m\u001b[1;32m      4\u001b[0m \u001b[0mmath\u001b[0m\u001b[0;34m.\u001b[0m\u001b[0mfloor\u001b[0m\u001b[0;34m(\u001b[0m\u001b[0;36m5.3\u001b[0m\u001b[0;34m)\u001b[0m\u001b[0;34m\u001b[0m\u001b[0;34m\u001b[0m\u001b[0m\n",
      "\u001b[0;31mModuleNotFoundError\u001b[0m: No module named 'mathi'",
      "",
      "\u001b[0;31m---------------------------------------------------------------------------\u001b[0;32m\nNOTE: If your import is failing due to a missing package, you can\nmanually install dependencies using either !pip or !apt.\n\nTo view examples of installing some common dependencies, click the\n\"Open Examples\" button below.\n\u001b[0;31m---------------------------------------------------------------------------\u001b[0m\n"
     ]
    }
   ],
   "source": [
    "# 2. ModuleNotFoundError: Module not found.\n",
    "\n",
    "import mathi\n",
    "math.floor(5.3)"
   ]
  },
  {
   "cell_type": "code",
   "execution_count": null,
   "metadata": {
    "colab": {
     "base_uri": "https://localhost:8080/",
     "height": 205
    },
    "id": "IP2CycVwE66e",
    "outputId": "430034d1-08f0-4e37-baeb-486eeb121b43"
   },
   "outputs": [
    {
     "ename": "KeyError",
     "evalue": "ignored",
     "output_type": "error",
     "traceback": [
      "\u001b[0;31m---------------------------------------------------------------------------\u001b[0m",
      "\u001b[0;31mKeyError\u001b[0m                                  Traceback (most recent call last)",
      "\u001b[0;32m<ipython-input-74-453afa1c9765>\u001b[0m in \u001b[0;36m<module>\u001b[0;34m\u001b[0m\n\u001b[1;32m      3\u001b[0m \u001b[0;34m\u001b[0m\u001b[0m\n\u001b[1;32m      4\u001b[0m \u001b[0md\u001b[0m \u001b[0;34m=\u001b[0m \u001b[0;34m{\u001b[0m\u001b[0;34m'name'\u001b[0m\u001b[0;34m:\u001b[0m\u001b[0;34m'nitish'\u001b[0m\u001b[0;34m}\u001b[0m\u001b[0;34m\u001b[0m\u001b[0;34m\u001b[0m\u001b[0m\n\u001b[0;32m----> 5\u001b[0;31m \u001b[0md\u001b[0m\u001b[0;34m[\u001b[0m\u001b[0;34m'age'\u001b[0m\u001b[0;34m]\u001b[0m\u001b[0;34m\u001b[0m\u001b[0;34m\u001b[0m\u001b[0m\n\u001b[0m",
      "\u001b[0;31mKeyError\u001b[0m: 'age'"
     ]
    }
   ],
   "source": [
    "# 3. KeyError: Dictionary key not found.\n",
    "\n",
    "d = {'name':'nitish'}\n",
    "d['age']"
   ]
  },
  {
   "cell_type": "code",
   "execution_count": null,
   "metadata": {
    "colab": {
     "base_uri": "https://localhost:8080/",
     "height": 205
    },
    "id": "meGU1o_VE-Y5",
    "outputId": "e8b62d30-5c0e-411e-cd60-4cd7fa42ecfd"
   },
   "outputs": [
    {
     "ename": "TypeError",
     "evalue": "ignored",
     "output_type": "error",
     "traceback": [
      "\u001b[0;31m---------------------------------------------------------------------------\u001b[0m",
      "\u001b[0;31mTypeError\u001b[0m                                 Traceback (most recent call last)",
      "\u001b[0;32m<ipython-input-78-2a3eb3f5bb0a>\u001b[0m in \u001b[0;36m<module>\u001b[0;34m\u001b[0m\n\u001b[1;32m      1\u001b[0m \u001b[0;31m# TypeError\u001b[0m\u001b[0;34m\u001b[0m\u001b[0;34m\u001b[0m\u001b[0;34m\u001b[0m\u001b[0m\n\u001b[1;32m      2\u001b[0m \u001b[0;31m# The TypeError is thrown when an operation or function is applied to an object of an inappropriate type.\u001b[0m\u001b[0;34m\u001b[0m\u001b[0;34m\u001b[0m\u001b[0;34m\u001b[0m\u001b[0m\n\u001b[0;32m----> 3\u001b[0;31m \u001b[0;36m1\u001b[0m \u001b[0;34m+\u001b[0m \u001b[0;34m'a'\u001b[0m\u001b[0;34m\u001b[0m\u001b[0;34m\u001b[0m\u001b[0m\n\u001b[0m",
      "\u001b[0;31mTypeError\u001b[0m: unsupported operand type(s) for +: 'int' and 'str'"
     ]
    }
   ],
   "source": [
    "# 4. TypeError: Inappropriate type for operation.\n",
    "\n",
    "1 + 'a'"
   ]
  },
  {
   "cell_type": "code",
   "execution_count": null,
   "metadata": {
    "colab": {
     "base_uri": "https://localhost:8080/",
     "height": 205
    },
    "id": "ZE_r2WsaFF6f",
    "outputId": "a8f34b54-b1e3-47d9-cd32-7eeee19b4d47"
   },
   "outputs": [
    {
     "ename": "ValueError",
     "evalue": "ignored",
     "output_type": "error",
     "traceback": [
      "\u001b[0;31m---------------------------------------------------------------------------\u001b[0m",
      "\u001b[0;31mValueError\u001b[0m                                Traceback (most recent call last)",
      "\u001b[0;32m<ipython-input-76-e419d2a084b4>\u001b[0m in \u001b[0;36m<module>\u001b[0;34m\u001b[0m\n\u001b[1;32m      1\u001b[0m \u001b[0;31m# ValueError\u001b[0m\u001b[0;34m\u001b[0m\u001b[0;34m\u001b[0m\u001b[0;34m\u001b[0m\u001b[0m\n\u001b[1;32m      2\u001b[0m \u001b[0;31m# The ValueError is thrown when a function's argument is of an inappropriate type.\u001b[0m\u001b[0;34m\u001b[0m\u001b[0;34m\u001b[0m\u001b[0;34m\u001b[0m\u001b[0m\n\u001b[0;32m----> 3\u001b[0;31m \u001b[0mint\u001b[0m\u001b[0;34m(\u001b[0m\u001b[0;34m'a'\u001b[0m\u001b[0;34m)\u001b[0m\u001b[0;34m\u001b[0m\u001b[0;34m\u001b[0m\u001b[0m\n\u001b[0m",
      "\u001b[0;31mValueError\u001b[0m: invalid literal for int() with base 10: 'a'"
     ]
    }
   ],
   "source": [
    "# 5. ValueError: Correct type, wrong value.\n",
    "\n",
    "int('a')"
   ]
  },
  {
   "cell_type": "code",
   "execution_count": null,
   "metadata": {
    "colab": {
     "base_uri": "https://localhost:8080/",
     "height": 205
    },
    "id": "yr7eRF2xFPo7",
    "outputId": "617b5a0c-2e8d-4e9d-e441-aa14c013bfa5"
   },
   "outputs": [
    {
     "ename": "NameError",
     "evalue": "ignored",
     "output_type": "error",
     "traceback": [
      "\u001b[0;31m---------------------------------------------------------------------------\u001b[0m",
      "\u001b[0;31mNameError\u001b[0m                                 Traceback (most recent call last)",
      "\u001b[0;32m<ipython-input-79-e3e8aaa4ec45>\u001b[0m in \u001b[0;36m<module>\u001b[0;34m\u001b[0m\n\u001b[1;32m      1\u001b[0m \u001b[0;31m# NameError\u001b[0m\u001b[0;34m\u001b[0m\u001b[0;34m\u001b[0m\u001b[0;34m\u001b[0m\u001b[0m\n\u001b[1;32m      2\u001b[0m \u001b[0;31m# The NameError is thrown when an object could not be found.\u001b[0m\u001b[0;34m\u001b[0m\u001b[0;34m\u001b[0m\u001b[0;34m\u001b[0m\u001b[0m\n\u001b[0;32m----> 3\u001b[0;31m \u001b[0mprint\u001b[0m\u001b[0;34m(\u001b[0m\u001b[0mk\u001b[0m\u001b[0;34m)\u001b[0m\u001b[0;34m\u001b[0m\u001b[0;34m\u001b[0m\u001b[0m\n\u001b[0m",
      "\u001b[0;31mNameError\u001b[0m: name 'k' is not defined"
     ]
    }
   ],
   "source": [
    "# 6. NameError: Undefined name.\n",
    "\n",
    "print(k)"
   ]
  },
  {
   "cell_type": "code",
   "execution_count": null,
   "metadata": {
    "colab": {
     "base_uri": "https://localhost:8080/",
     "height": 205
    },
    "id": "VHVKtWwWFUhK",
    "outputId": "6d84d92c-f2c1-4abc-f4ed-6cf8ebd0cb1e"
   },
   "outputs": [
    {
     "ename": "AttributeError",
     "evalue": "ignored",
     "output_type": "error",
     "traceback": [
      "\u001b[0;31m---------------------------------------------------------------------------\u001b[0m",
      "\u001b[0;31mAttributeError\u001b[0m                            Traceback (most recent call last)",
      "\u001b[0;32m<ipython-input-80-dd5a29625ddc>\u001b[0m in \u001b[0;36m<module>\u001b[0;34m\u001b[0m\n\u001b[1;32m      1\u001b[0m \u001b[0;31m# AttributeError\u001b[0m\u001b[0;34m\u001b[0m\u001b[0;34m\u001b[0m\u001b[0;34m\u001b[0m\u001b[0m\n\u001b[1;32m      2\u001b[0m \u001b[0mL\u001b[0m \u001b[0;34m=\u001b[0m \u001b[0;34m[\u001b[0m\u001b[0;36m1\u001b[0m\u001b[0;34m,\u001b[0m\u001b[0;36m2\u001b[0m\u001b[0;34m,\u001b[0m\u001b[0;36m3\u001b[0m\u001b[0;34m]\u001b[0m\u001b[0;34m\u001b[0m\u001b[0;34m\u001b[0m\u001b[0m\n\u001b[0;32m----> 3\u001b[0;31m \u001b[0mL\u001b[0m\u001b[0;34m.\u001b[0m\u001b[0mupper\u001b[0m\u001b[0;34m(\u001b[0m\u001b[0;34m)\u001b[0m\u001b[0;34m\u001b[0m\u001b[0;34m\u001b[0m\u001b[0m\n\u001b[0m",
      "\u001b[0;31mAttributeError\u001b[0m: 'list' object has no attribute 'upper'"
     ]
    }
   ],
   "source": [
    "# 7. AttributeError: Invalid attribute reference.\n",
    "\n",
    "L = [1, 2, 3]\n",
    "L.upper()"
   ]
  },
  {
   "cell_type": "markdown",
   "metadata": {},
   "source": [
    "**Stacktrace Overview:**\n",
    "- Detailed error info during execution. Includes error type, message, code location (line/file).\n",
    "- **Purpose** is to help identify and fix issues. Crucial for debugging in development/testing.\n",
    "\n",
    "**Production Considerations:**\n",
    "- **UX:** Avoid displaying to users. Technical jargon can confuse and frustrate.\n",
    "- **Security:** Exposing can leak sensitive info. Risk of exploitation.\n",
    "\n",
    "**Best Practices:**\n",
    "- Gracefully handle errors. Show user-friendly messages.\n",
    "- Use stacktraces internally for debugging only."
   ]
  },
  {
   "cell_type": "markdown",
   "metadata": {
    "id": "l6JrgCrHA2Tq"
   },
   "source": [
    "## Exceptions in Programming:\n",
    "\n",
    "Runtime issues disrupting execution. Require immediate handling for stability.\n",
    "\n",
    "**Common Issues**:\n",
    "- *Memory overflow*: Exceeds memory limits.\n",
    "- *Division by zero*: Undefined operations.\n",
    "- *Database errors*: Connection/query failures.\n",
    "\n",
    "**Importance**: Prevents crashes, ensures stability, and improves reliability."
   ]
  },
  {
   "cell_type": "markdown",
   "metadata": {},
   "source": [
    "## Python Handling"
   ]
  },
  {
   "cell_type": "code",
   "execution_count": 11,
   "metadata": {
    "id": "S_VIvkx9Hnxb"
   },
   "outputs": [],
   "source": [
    "# Create file and write text\n",
    "\n",
    "with open('sample.txt', 'w') as f:\n",
    "  f.write('hello world')"
   ]
  },
  {
   "cell_type": "code",
   "execution_count": 13,
   "metadata": {
    "colab": {
     "base_uri": "https://localhost:8080/"
    },
    "id": "9WItdkURHtvM",
    "outputId": "b14ed0bd-1d46-426b-ab81-42e24608ec4e"
   },
   "outputs": [
    {
     "name": "stdout",
     "output_type": "stream",
     "text": [
      "mene sample.txt make kiya tha no sample 1\n"
     ]
    }
   ],
   "source": [
    "# Try-Catch Demo\n",
    "\n",
    "try:\n",
    "  with open('sample1.txt', 'r') as f:\n",
    "    print(f.read())\n",
    "except:\n",
    "  print('mene sample.txt make kiya tha no sample 1')"
   ]
  },
  {
   "cell_type": "markdown",
   "metadata": {},
   "source": [
    "## `try-except` Blocks\n",
    "\n",
    "**Purpose**:\n",
    "- *Mitigate Risks*: File perms, network issues.\n",
    "- *Enhance Robustness*: Avoid crashes, manage errors.\n",
    "- *Graceful Handling*: Recover from issues.\n",
    "\n",
    "**Structure**:\n",
    "- **`try` Block**: Risky ops (file I/O, DB).\n",
    "- **`except` Block**: Catches exceptions from `try`.\n",
    "\n",
    "**Benefits**:\n",
    "- *Reliability*: Avoid crashes.\n",
    "- *Clean Code*: Error-handling separate.\n",
    "- *Resilience*: Recover from errors.\n",
    "\n",
    "**Best Practices**:\n",
    "- Specific exceptions (`FileNotFoundError`, `ConnectionError`).\n",
    "- Appropriate messages or fallbacks in `except`."
   ]
  },
  {
   "cell_type": "code",
   "execution_count": null,
   "metadata": {
    "colab": {
     "base_uri": "https://localhost:8080/"
    },
    "id": "px7mJhmvH0pd",
    "outputId": "a0052ee7-73f4-44cb-c7f9-2c6756a83fb3"
   },
   "outputs": [
    {
     "name": "stdout",
     "output_type": "stream",
     "text": [
      "[Errno 2] No such file or directory: 'sample1.txt'\n"
     ]
    }
   ],
   "source": [
    "# Catching Specific Exceptions ---> informing users about errors, improving user experience.\n",
    "\n",
    "try:\n",
    "  m = 5\n",
    "  f = open('sample1.txt', 'r')\n",
    "  print(f.read())\n",
    "  print(m)\n",
    "  print(5 / 2)\n",
    "  L = [1, 2, 3]\n",
    "  L[100]\n",
    "except FileNotFoundError:\n",
    "  print('file not found')\n",
    "except NameError:\n",
    "  print('variable not defined')\n",
    "except ZeroDivisionError:\n",
    "  print(\"can't divide by 0\")\n",
    "except Exception as e:\n",
    "  print(e)"
   ]
  },
  {
   "cell_type": "code",
   "execution_count": 15,
   "metadata": {},
   "outputs": [
    {
     "name": "stdout",
     "output_type": "stream",
     "text": [
      "40\n"
     ]
    }
   ],
   "source": [
    "try:\n",
    "    a = 20\n",
    "    c = 20\n",
    "    print(a + c)\n",
    "except NameError as e:\n",
    "    print(e)        "
   ]
  },
  {
   "cell_type": "code",
   "execution_count": 19,
   "metadata": {},
   "outputs": [
    {
     "ename": "NameError",
     "evalue": "name 'x' is not defined",
     "output_type": "error",
     "traceback": [
      "\u001b[1;31m---------------------------------------------------------------------------\u001b[0m",
      "\u001b[1;31mNameError\u001b[0m                                 Traceback (most recent call last)",
      "Cell \u001b[1;32mIn[19], line 3\u001b[0m\n\u001b[0;32m      1\u001b[0m \u001b[38;5;28;01mtry\u001b[39;00m:\n\u001b[0;32m      2\u001b[0m     \u001b[38;5;28;01mfor\u001b[39;00m i \u001b[38;5;129;01min\u001b[39;00m \u001b[38;5;28mrange\u001b[39m(\u001b[38;5;241m5\u001b[39m):\n\u001b[1;32m----> 3\u001b[0m         \u001b[38;5;28mprint\u001b[39m(x)\n\u001b[0;32m      5\u001b[0m \u001b[38;5;28;01mexcept\u001b[39;00m \u001b[38;5;167;01mFileNotFoundError\u001b[39;00m \u001b[38;5;28;01mas\u001b[39;00m e:\n\u001b[0;32m      6\u001b[0m     \u001b[38;5;28mprint\u001b[39m(e)\n",
      "\u001b[1;31mNameError\u001b[0m: name 'x' is not defined"
     ]
    }
   ],
   "source": [
    "try:\n",
    "    for i in range(5):\n",
    "        print(x)\n",
    "\n",
    "except FileNotFoundError as e:\n",
    "    print(e)            "
   ]
  },
  {
   "cell_type": "code",
   "execution_count": null,
   "metadata": {
    "colab": {
     "base_uri": "https://localhost:8080/"
    },
    "id": "nn-_EK1TKvno",
    "outputId": "311f3b30-b641-43f3-f99f-59f97d5e388c"
   },
   "outputs": [
    {
     "name": "stdout",
     "output_type": "stream",
     "text": [
      "file nai mili\n"
     ]
    }
   ],
   "source": [
    "# `else` in Try-Except\n",
    "\n",
    "try:\n",
    "  f = open('sample1.txt', 'r')\n",
    "except FileNotFoundError:\n",
    "  print('file nai mili')\n",
    "except Exception:\n",
    "  print('kuch to lafda hai')\n",
    "else:\n",
    "  print(f.read())"
   ]
  },
  {
   "cell_type": "markdown",
   "metadata": {},
   "source": [
    "## `try`, `else`, and `finally` Blocks\n",
    "\n",
    "**`try` Block:** Executes risky code; avoids abrupt halts on errors.\n",
    "\n",
    "**`else` Block:** Runs if `try` succeeds; executes only when no exceptions.\n",
    "\n",
    "**`except` Block:** Manages errors from `try`.\n",
    "\n",
    "**`finally` Block:** Executes regardless of exceptions; ensures cleanup (e.g., close files, release resources).\n",
    "\n",
    "`try`, `else`, `finally` = Structured exception handling."
   ]
  },
  {
   "cell_type": "code",
   "execution_count": null,
   "metadata": {
    "colab": {
     "base_uri": "https://localhost:8080/"
    },
    "id": "VKzyyGTUKwm5",
    "outputId": "e986811f-3009-451e-91ac-7b59f1db33e5",
    "scrolled": true
   },
   "outputs": [
    {
     "name": "stdout",
     "output_type": "stream",
     "text": [
      "file nai mili\n",
      "ye to print hoga hi\n"
     ]
    }
   ],
   "source": [
    "# `finally`\n",
    "\n",
    "try:\n",
    "  f = open('sample1.txt', 'r')\n",
    "except FileNotFoundError:\n",
    "  print('file nai mili')\n",
    "except Exception:\n",
    "  print('kuch to lafda hai')\n",
    "else:\n",
    "  print(f.read())\n",
    "finally:\n",
    "  print('ye to print hoga hi')"
   ]
  },
  {
   "cell_type": "markdown",
   "metadata": {
    "id": "weTHAgttKxaJ"
   },
   "source": [
    "## `raise` Keyword\n",
    "\n",
    "Trigger exceptions manually.\n",
    "\n",
    "**Custom Exceptions**: Pass values for context.\n",
    "\n",
    "**Error Control**: Enhance robust design and manage unexpected issues."
   ]
  },
  {
   "cell_type": "code",
   "execution_count": null,
   "metadata": {
    "colab": {
     "base_uri": "https://localhost:8080/",
     "height": 169
    },
    "id": "IH51eIy5K9Yc",
    "outputId": "c7f361a1-35f3-4b11-86fb-b4d1f7e3932c"
   },
   "outputs": [
    {
     "ename": "ZeroDivisionError",
     "evalue": "ignored",
     "output_type": "error",
     "traceback": [
      "\u001b[0;31m---------------------------------------------------------------------------\u001b[0m",
      "\u001b[0;31mZeroDivisionError\u001b[0m                         Traceback (most recent call last)",
      "\u001b[0;32m<ipython-input-106-5a07d7d89433>\u001b[0m in \u001b[0;36m<module>\u001b[0;34m\u001b[0m\n\u001b[0;32m----> 1\u001b[0;31m \u001b[0;32mraise\u001b[0m \u001b[0mZeroDivisionError\u001b[0m\u001b[0;34m(\u001b[0m\u001b[0;34m'aise hi try kar raha hu'\u001b[0m\u001b[0;34m)\u001b[0m\u001b[0;34m\u001b[0m\u001b[0;34m\u001b[0m\u001b[0m\n\u001b[0m",
      "\u001b[0;31mZeroDivisionError\u001b[0m: aise hi try kar raha hu"
     ]
    }
   ],
   "source": [
    "raise ZeroDivisionError('aise hi try kar raha hu')\n",
    "\n",
    "# Java Equivalents:\n",
    "\n",
    "# `try`    ---> `try`\n",
    "# `except` ---> `catch`\n",
    "# `raise`  ---> `throw`"
   ]
  },
  {
   "cell_type": "code",
   "execution_count": null,
   "metadata": {
    "colab": {
     "base_uri": "https://localhost:8080/"
    },
    "id": "0qLD1KYj_LPm",
    "outputId": "8753ccce-bb47-4e38-ce32-ce00f4c508f8"
   },
   "outputs": [
    {
     "name": "stdout",
     "output_type": "stream",
     "text": [
      "paise nai hai tere paas\n"
     ]
    }
   ],
   "source": [
    "class Bank:\n",
    "\n",
    "  def __init__(self, balance):\n",
    "    self.balance = balance\n",
    "\n",
    "  def withdraw(self, amount):\n",
    "    if amount < 0:\n",
    "      raise Exception('amount cannot be -ve')\n",
    "    if self.balance < amount:\n",
    "      raise Exception('paise nai hai tere paas')\n",
    "    self.balance = self.balance - amount\n",
    "\n",
    "obj = Bank(10000)\n",
    "try:\n",
    "  obj.withdraw(15000)\n",
    "except Exception as e:\n",
    "  print(e)\n",
    "else:\n",
    "  print(obj.balance)"
   ]
  },
  {
   "cell_type": "code",
   "execution_count": null,
   "metadata": {},
   "outputs": [],
   "source": [
    "`raise`  ---> Trigger exceptions.\n",
    "`except` ---> Handle exceptions.\n",
    "\n",
    "Enhances app robustness by managing errors, preventing abrupt terminations."
   ]
  },
  {
   "cell_type": "markdown",
   "metadata": {},
   "source": [
    "### exception hierarchy in python"
   ]
  },
  {
   "cell_type": "code",
   "execution_count": null,
   "metadata": {},
   "outputs": [],
   "source": [
    "               BaseException\n",
    "                     |\n",
    "                     |\n",
    "            +--------+---------+\n",
    "            |                  |\n",
    "            |                  |\n",
    "        Exception      KeyboardInterrupt      \n",
    "            |                                 +--------- FloatingPointError\n",
    "            |                                 |\n",
    "            +-------- ArithmeticError --------+--------- OverflowError\n",
    "            |                                 |\n",
    "            |                                 +--------- ZeroDivisionError\n",
    "            |                 \n",
    "            |                                 +--------- IndexError\n",
    "            +---------- LookupError ----------|\n",
    "            |                                 +--------- KeyError\n",
    "            |                                 \n",
    "            |                                 +--------- FileExists Error                  \n",
    "            +------------ OSError ------------|\n",
    "                                              +--------- Permission Error"
   ]
  },
  {
   "cell_type": "markdown",
   "metadata": {
    "id": "VTaMY8stXLaT"
   },
   "source": [
    "*Python allows creating custom exceptions, which means you can define your own types of errors.*"
   ]
  },
  {
   "cell_type": "code",
   "execution_count": null,
   "metadata": {
    "colab": {
     "base_uri": "https://localhost:8080/"
    },
    "id": "DLzBsX5eBSNs",
    "outputId": "4b8d711a-43a7-45e1-9cd5-1ee6cf0633d9"
   },
   "outputs": [
    {
     "name": "stdout",
     "output_type": "stream",
     "text": [
      "5000\n"
     ]
    }
   ],
   "source": [
    "class MyException(Exception):\n",
    "  def __init__(self, message):\n",
    "    print(message)\n",
    "\n",
    "class Bank:\n",
    "  def __init__(self, balance):\n",
    "    self.balance = balance\n",
    "\n",
    "  def withdraw(self, amount):\n",
    "    if amount < 0:\n",
    "      raise MyException('amount cannot be -ve')\n",
    "    if self.balance < amount:\n",
    "      raise MyException('paise nai hai tere paas')\n",
    "    self.balance = self.balance - amount\n",
    "\n",
    "obj = Bank(10000)\n",
    "try:\n",
    "  obj.withdraw(5000)\n",
    "except MyException as e:\n",
    "  pass\n",
    "else:\n",
    "  print(obj.balance)"
   ]
  },
  {
   "cell_type": "markdown",
   "metadata": {},
   "source": [
    "## Custom Classes: Why & Benefits\n",
    "\n",
    "**Purpose**:\n",
    "- Full control over app structure & behavior\n",
    "- Ideal for custom login/registration systems\n",
    "\n",
    "**Benefits**:\n",
    "1. **Security**: Custom security measures, e.g., device signature management, auto log-out on unrecognized devices\n",
    "2. **Functionality**: Tailored features, e.g., user input management (name, email, password), device signature handling\n",
    "\n",
    "**Implementation**:\n",
    "- Control over security protocols\n",
    "- Enables advanced security features"
   ]
  },
  {
   "cell_type": "markdown",
   "metadata": {
    "id": "E9f2B-J_cNJF"
   },
   "source": [
    "## simple example"
   ]
  },
  {
   "cell_type": "code",
   "execution_count": null,
   "metadata": {
    "colab": {
     "base_uri": "https://localhost:8080/"
    },
    "id": "YMIbhy3acWX4",
    "outputId": "1008e800-2a8c-4e47-e041-65a366503cc2"
   },
   "outputs": [
    {
     "name": "stdout",
     "output_type": "stream",
     "text": [
      "bhai teri to lag gayi\n",
      "logout\n",
      "database connection closed\n"
     ]
    }
   ],
   "source": [
    "class SecurityError(Exception):\n",
    "\n",
    "  def __init__(self, message):\n",
    "    print(message)\n",
    "\n",
    "  def logout(self):\n",
    "    print('logout')\n",
    "\n",
    "class Google:\n",
    "\n",
    "  def __init__(self, name, email, password, device):\n",
    "    self.name = name\n",
    "    self.email = email\n",
    "    self.password = password\n",
    "    self.device = device\n",
    "\n",
    "  def login(self, email, password, device):\n",
    "    if device != self.device:\n",
    "      raise SecurityError('bhai teri to lag gayi')\n",
    "    if email == self.email and password == self.password:\n",
    "      print('welcome')\n",
    "    else:\n",
    "      print('login error')\n",
    "\n",
    "obj = Google('nitish', 'nitish@gmail.com', '1234', 'android')\n",
    "\n",
    "try:\n",
    "  obj.login('nitish@gmail.com', '1234', 'windows')\n",
    "except SecurityError as e:\n",
    "  e.logout()\n",
    "else:\n",
    "  print(obj.name)\n",
    "finally:\n",
    "  print('database connection closed')"
   ]
  }
 ],
 "metadata": {
  "colab": {
   "provenance": []
  },
  "kernelspec": {
   "display_name": "base",
   "language": "python",
   "name": "python3"
  },
  "language_info": {
   "codemirror_mode": {
    "name": "ipython",
    "version": 3
   },
   "file_extension": ".py",
   "mimetype": "text/x-python",
   "name": "python",
   "nbconvert_exporter": "python",
   "pygments_lexer": "ipython3",
   "version": "3.11.7"
  }
 },
 "nbformat": 4,
 "nbformat_minor": 1
}
