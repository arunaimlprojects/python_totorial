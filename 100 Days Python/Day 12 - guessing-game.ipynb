{
 "cells": [
  {
   "cell_type": "code",
   "execution_count": 1,
   "id": "eb2b2057",
   "metadata": {},
   "outputs": [],
   "source": [
    "import random"
   ]
  },
  {
   "cell_type": "code",
   "execution_count": 2,
   "id": "524fa522",
   "metadata": {},
   "outputs": [
    {
     "data": {
      "text/plain": [
       "39"
      ]
     },
     "execution_count": 2,
     "metadata": {},
     "output_type": "execute_result"
    }
   ],
   "source": [
    "random.randint(1, 100)"
   ]
  },
  {
   "cell_type": "code",
   "execution_count": 4,
   "id": "11b1273b",
   "metadata": {},
   "outputs": [
    {
     "name": "stdout",
     "output_type": "stream",
     "text": [
      "Guess higher\n",
      "Guess higher\n",
      "Guess higher\n",
      "Guess higher\n",
      "Guess lower\n",
      "Guess higher\n",
      "Sahi Jawab\n",
      "You took 7 attempts\n"
     ]
    }
   ],
   "source": [
    "jackpot = random.randint(1, 100)\n",
    "guess = int(input(\"Chal guess kar: \"))\n",
    "counter = 1\n",
    "while guess != jackpot:\n",
    "    if guess < jackpot:\n",
    "        print(\"Guess higher\")\n",
    "    else:\n",
    "        print(\"Guess lower\")   \n",
    "    guess = int(input(\"Chal guess kar: \"))\n",
    "    counter += 1\n",
    "print(\"Sahi Jawab\")\n",
    "print(\"You took\", counter, \"attempts\")"
   ]
  },
  {
   "cell_type": "code",
   "execution_count": null,
   "id": "982823a1",
   "metadata": {},
   "outputs": [],
   "source": []
  }
 ],
 "metadata": {
  "kernelspec": {
   "display_name": "base",
   "language": "python",
   "name": "python3"
  },
  "language_info": {
   "codemirror_mode": {
    "name": "ipython",
    "version": 3
   },
   "file_extension": ".py",
   "mimetype": "text/x-python",
   "name": "python",
   "nbconvert_exporter": "python",
   "pygments_lexer": "ipython3",
   "version": "3.11.7"
  }
 },
 "nbformat": 4,
 "nbformat_minor": 5
}
