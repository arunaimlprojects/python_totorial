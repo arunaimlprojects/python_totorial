{
  "nbformat": 4,
  "nbformat_minor": 0,
  "metadata": {
    "colab": {
      "provenance": [],
      "authorship_tag": "ABX9TyNFT0HUrkT/XcJvwKijUOoC",
      "include_colab_link": true
    },
    "kernelspec": {
      "name": "python3",
      "display_name": "Python 3"
    },
    "language_info": {
      "name": "python"
    }
  },
  "cells": [
    {
      "cell_type": "markdown",
      "metadata": {
        "id": "view-in-github",
        "colab_type": "text"
      },
      "source": [
        "<a href=\"https://colab.research.google.com/github/arunaimlprojects/python_totorial/blob/main/current_file_function.ipynb\" target=\"_parent\"><img src=\"https://colab.research.google.com/assets/colab-badge.svg\" alt=\"Open In Colab\"/></a>"
      ]
    },
    {
      "cell_type": "markdown",
      "source": [
        "function"
      ],
      "metadata": {
        "id": "AYFv4dELwba5"
      }
    },
    {
      "cell_type": "code",
      "source": [
        "len('hello')"
      ],
      "metadata": {
        "colab": {
          "base_uri": "https://localhost:8080/"
        },
        "id": "7xLiHnT7wc7K",
        "outputId": "259acf1d-0f19-41e4-ce7a-4f3da3d720a3"
      },
      "execution_count": null,
      "outputs": [
        {
          "output_type": "execute_result",
          "data": {
            "text/plain": [
              "5"
            ]
          },
          "metadata": {},
          "execution_count": 3
        }
      ]
    },
    {
      "cell_type": "code",
      "source": [
        "print(10)"
      ],
      "metadata": {
        "colab": {
          "base_uri": "https://localhost:8080/"
        },
        "id": "8-kNlVoYwpku",
        "outputId": "85493933-d698-47f0-85ee-3d4ff1b63614"
      },
      "execution_count": null,
      "outputs": [
        {
          "output_type": "stream",
          "name": "stdout",
          "text": [
            "10\n"
          ]
        }
      ]
    },
    {
      "cell_type": "code",
      "source": [
        "type(10)"
      ],
      "metadata": {
        "colab": {
          "base_uri": "https://localhost:8080/"
        },
        "id": "0oBx4u_dw45t",
        "outputId": "deaa6e36-823f-4cc5-a70c-9a78fe7c9b96"
      },
      "execution_count": null,
      "outputs": [
        {
          "output_type": "execute_result",
          "data": {
            "text/plain": [
              "int"
            ]
          },
          "metadata": {},
          "execution_count": 5
        }
      ]
    },
    {
      "cell_type": "code",
      "source": [
        "id(10)"
      ],
      "metadata": {
        "colab": {
          "base_uri": "https://localhost:8080/"
        },
        "id": "fCIPDxxew8Jv",
        "outputId": "1b543a24-0460-4870-b54e-f18bc3d76c76"
      },
      "execution_count": null,
      "outputs": [
        {
          "output_type": "execute_result",
          "data": {
            "text/plain": [
              "10751144"
            ]
          },
          "metadata": {},
          "execution_count": 6
        }
      ]
    },
    {
      "cell_type": "code",
      "source": [
        "import keyword\n",
        "keyword.kwlist"
      ],
      "metadata": {
        "colab": {
          "base_uri": "https://localhost:8080/"
        },
        "id": "S_9yyoeHw9p3",
        "outputId": "02bc9fd3-e1eb-4777-e5f8-8fef7d5d88fb"
      },
      "execution_count": null,
      "outputs": [
        {
          "output_type": "execute_result",
          "data": {
            "text/plain": [
              "['False',\n",
              " 'None',\n",
              " 'True',\n",
              " 'and',\n",
              " 'as',\n",
              " 'assert',\n",
              " 'async',\n",
              " 'await',\n",
              " 'break',\n",
              " 'class',\n",
              " 'continue',\n",
              " 'def',\n",
              " 'del',\n",
              " 'elif',\n",
              " 'else',\n",
              " 'except',\n",
              " 'finally',\n",
              " 'for',\n",
              " 'from',\n",
              " 'global',\n",
              " 'if',\n",
              " 'import',\n",
              " 'in',\n",
              " 'is',\n",
              " 'lambda',\n",
              " 'nonlocal',\n",
              " 'not',\n",
              " 'or',\n",
              " 'pass',\n",
              " 'raise',\n",
              " 'return',\n",
              " 'try',\n",
              " 'while',\n",
              " 'with',\n",
              " 'yield']"
            ]
          },
          "metadata": {},
          "execution_count": 7
        }
      ]
    },
    {
      "cell_type": "code",
      "source": [
        "def odd_even(num):\n",
        "  \"\"\"\n",
        "  name-arun kumar\n",
        "  date-27-02-2025\n",
        "  input-integer\n",
        "  output-odd or even\n",
        "  this is my function\n",
        "\n",
        "  \"\"\"\n",
        "  if num%2==0:\n",
        "    return 'even'\n",
        "\n",
        "  else:\n",
        "    return 'odd'\n"
      ],
      "metadata": {
        "id": "qSz4tFy6xJL0"
      },
      "execution_count": null,
      "outputs": []
    },
    {
      "cell_type": "code",
      "source": [
        "#def-keyword\n",
        "#odd_even-function name\n",
        "#doc string\n",
        "#condion"
      ],
      "metadata": {
        "id": "xXibK8xByIdI"
      },
      "execution_count": null,
      "outputs": []
    },
    {
      "cell_type": "code",
      "source": [
        "len()"
      ],
      "metadata": {
        "id": "QhBAJq4Pyktu"
      },
      "execution_count": null,
      "outputs": []
    },
    {
      "cell_type": "code",
      "source": [
        "odd_even()"
      ],
      "metadata": {
        "colab": {
          "base_uri": "https://localhost:8080/",
          "height": 141
        },
        "id": "WwizwTdGyg9D",
        "outputId": "f7d969e9-b532-4e46-c43b-93044fb6968e"
      },
      "execution_count": null,
      "outputs": [
        {
          "output_type": "error",
          "ename": "TypeError",
          "evalue": "odd_even() missing 1 required positional argument: 'num'",
          "traceback": [
            "\u001b[0;31m---------------------------------------------------------------------------\u001b[0m",
            "\u001b[0;31mTypeError\u001b[0m                                 Traceback (most recent call last)",
            "\u001b[0;32m<ipython-input-10-d86a5f720e3b>\u001b[0m in \u001b[0;36m<cell line: 0>\u001b[0;34m()\u001b[0m\n\u001b[0;32m----> 1\u001b[0;31m \u001b[0modd_even\u001b[0m\u001b[0;34m(\u001b[0m\u001b[0;34m)\u001b[0m\u001b[0;34m\u001b[0m\u001b[0;34m\u001b[0m\u001b[0m\n\u001b[0m",
            "\u001b[0;31mTypeError\u001b[0m: odd_even() missing 1 required positional argument: 'num'"
          ]
        }
      ]
    },
    {
      "cell_type": "code",
      "source": [
        "odd_even(10,20)"
      ],
      "metadata": {
        "colab": {
          "base_uri": "https://localhost:8080/",
          "height": 141
        },
        "id": "4JPdjQQayoc3",
        "outputId": "2c1474a7-409d-4cfd-8982-64e3002c6434"
      },
      "execution_count": null,
      "outputs": [
        {
          "output_type": "error",
          "ename": "TypeError",
          "evalue": "odd_even() takes 1 positional argument but 2 were given",
          "traceback": [
            "\u001b[0;31m---------------------------------------------------------------------------\u001b[0m",
            "\u001b[0;31mTypeError\u001b[0m                                 Traceback (most recent call last)",
            "\u001b[0;32m<ipython-input-11-04c077c6c7a2>\u001b[0m in \u001b[0;36m<cell line: 0>\u001b[0;34m()\u001b[0m\n\u001b[0;32m----> 1\u001b[0;31m \u001b[0modd_even\u001b[0m\u001b[0;34m(\u001b[0m\u001b[0;36m10\u001b[0m\u001b[0;34m,\u001b[0m\u001b[0;36m20\u001b[0m\u001b[0;34m)\u001b[0m\u001b[0;34m\u001b[0m\u001b[0;34m\u001b[0m\u001b[0m\n\u001b[0m",
            "\u001b[0;31mTypeError\u001b[0m: odd_even() takes 1 positional argument but 2 were given"
          ]
        }
      ]
    },
    {
      "cell_type": "code",
      "source": [
        "odd_even(7)"
      ],
      "metadata": {
        "colab": {
          "base_uri": "https://localhost:8080/",
          "height": 36
        },
        "id": "pYj5vi3vy1lu",
        "outputId": "91fbf5cd-6866-4f65-f3df-01a2672a4332"
      },
      "execution_count": null,
      "outputs": [
        {
          "output_type": "execute_result",
          "data": {
            "text/plain": [
              "'odd'"
            ],
            "application/vnd.google.colaboratory.intrinsic+json": {
              "type": "string"
            }
          },
          "metadata": {},
          "execution_count": 12
        }
      ]
    },
    {
      "cell_type": "code",
      "source": [
        "7/2"
      ],
      "metadata": {
        "colab": {
          "base_uri": "https://localhost:8080/"
        },
        "id": "a3h9f_kVy_tO",
        "outputId": "8963dbd9-9ff3-4db4-9398-8f6660ce2748"
      },
      "execution_count": null,
      "outputs": [
        {
          "output_type": "execute_result",
          "data": {
            "text/plain": [
              "3.5"
            ]
          },
          "metadata": {},
          "execution_count": 13
        }
      ]
    },
    {
      "cell_type": "code",
      "source": [
        "odd_even(2)"
      ],
      "metadata": {
        "colab": {
          "base_uri": "https://localhost:8080/",
          "height": 36
        },
        "id": "z23uDAgxzEUz",
        "outputId": "3024fc53-481b-46b4-ac45-853203771bf0"
      },
      "execution_count": null,
      "outputs": [
        {
          "output_type": "execute_result",
          "data": {
            "text/plain": [
              "'even'"
            ],
            "application/vnd.google.colaboratory.intrinsic+json": {
              "type": "string"
            }
          },
          "metadata": {},
          "execution_count": 14
        }
      ]
    },
    {
      "cell_type": "code",
      "source": [
        "odd_even('hello')"
      ],
      "metadata": {
        "colab": {
          "base_uri": "https://localhost:8080/",
          "height": 263
        },
        "id": "lIZrqrWzzIWm",
        "outputId": "31c497c1-ab15-49a0-cfc5-fa44f894f207"
      },
      "execution_count": null,
      "outputs": [
        {
          "output_type": "error",
          "ename": "TypeError",
          "evalue": "not all arguments converted during string formatting",
          "traceback": [
            "\u001b[0;31m---------------------------------------------------------------------------\u001b[0m",
            "\u001b[0;31mTypeError\u001b[0m                                 Traceback (most recent call last)",
            "\u001b[0;32m<ipython-input-15-a29117a98af1>\u001b[0m in \u001b[0;36m<cell line: 0>\u001b[0;34m()\u001b[0m\n\u001b[0;32m----> 1\u001b[0;31m \u001b[0modd_even\u001b[0m\u001b[0;34m(\u001b[0m\u001b[0;34m'hello'\u001b[0m\u001b[0;34m)\u001b[0m\u001b[0;34m\u001b[0m\u001b[0;34m\u001b[0m\u001b[0m\n\u001b[0m",
            "\u001b[0;32m<ipython-input-8-4610167a34b5>\u001b[0m in \u001b[0;36modd_even\u001b[0;34m(num)\u001b[0m\n\u001b[1;32m      8\u001b[0m \u001b[0;34m\u001b[0m\u001b[0m\n\u001b[1;32m      9\u001b[0m   \"\"\"\n\u001b[0;32m---> 10\u001b[0;31m   \u001b[0;32mif\u001b[0m \u001b[0mnum\u001b[0m\u001b[0;34m%\u001b[0m\u001b[0;36m2\u001b[0m\u001b[0;34m==\u001b[0m\u001b[0;36m0\u001b[0m\u001b[0;34m:\u001b[0m\u001b[0;34m\u001b[0m\u001b[0;34m\u001b[0m\u001b[0m\n\u001b[0m\u001b[1;32m     11\u001b[0m     \u001b[0;32mreturn\u001b[0m \u001b[0;34m'even'\u001b[0m\u001b[0;34m\u001b[0m\u001b[0;34m\u001b[0m\u001b[0m\n\u001b[1;32m     12\u001b[0m \u001b[0;34m\u001b[0m\u001b[0m\n",
            "\u001b[0;31mTypeError\u001b[0m: not all arguments converted during string formatting"
          ]
        }
      ]
    },
    {
      "cell_type": "code",
      "source": [
        "def odd_even(num):\n",
        "  \"\"\"\n",
        "  name-arun kumar\n",
        "  date-27-02-2025\n",
        "  input-integer\n",
        "  output-odd or even\n",
        "  this is my function\n",
        "\n",
        "  \"\"\"\n",
        "  if type(num)==int:\n",
        "    if num%2==0:\n",
        "      return 'even'\n",
        "\n",
        "    else:\n",
        "      return 'odd'\n",
        "\n",
        "  else:\n",
        "    return 'vhai integer value dal'\n",
        "\n"
      ],
      "metadata": {
        "id": "2RfcSfv8zONS"
      },
      "execution_count": null,
      "outputs": []
    },
    {
      "cell_type": "code",
      "source": [
        "odd_even('hello')"
      ],
      "metadata": {
        "colab": {
          "base_uri": "https://localhost:8080/",
          "height": 36
        },
        "id": "gKOn5aH0zy25",
        "outputId": "bbc2cda8-3af8-4e73-e6cd-52626f39c040"
      },
      "execution_count": null,
      "outputs": [
        {
          "output_type": "execute_result",
          "data": {
            "text/plain": [
              "'vhai integer value dal'"
            ],
            "application/vnd.google.colaboratory.intrinsic+json": {
              "type": "string"
            }
          },
          "metadata": {},
          "execution_count": 17
        }
      ]
    },
    {
      "cell_type": "code",
      "source": [
        "odd_even.__doc__"
      ],
      "metadata": {
        "colab": {
          "base_uri": "https://localhost:8080/",
          "height": 36
        },
        "id": "RTngzHRLz2G8",
        "outputId": "df46c166-7e00-445a-d880-d04967be7ffc"
      },
      "execution_count": null,
      "outputs": [
        {
          "output_type": "execute_result",
          "data": {
            "text/plain": [
              "'\\n  name-arun kumar\\n  date-27-02-2025\\n  input-integer\\n  output-odd or even\\n  this is my function\\n  \\n  '"
            ],
            "application/vnd.google.colaboratory.intrinsic+json": {
              "type": "string"
            }
          },
          "metadata": {},
          "execution_count": 18
        }
      ]
    },
    {
      "cell_type": "code",
      "source": [
        "print(odd_even.__doc__)"
      ],
      "metadata": {
        "colab": {
          "base_uri": "https://localhost:8080/"
        },
        "id": "7rwdGDRO0Hry",
        "outputId": "c7dc941c-6752-463d-f93a-f79ed09c3965"
      },
      "execution_count": null,
      "outputs": [
        {
          "output_type": "stream",
          "name": "stdout",
          "text": [
            "\n",
            "  name-arun kumar\n",
            "  date-27-02-2025\n",
            "  input-integer\n",
            "  output-odd or even\n",
            "  this is my function\n",
            "  \n",
            "  \n"
          ]
        }
      ]
    },
    {
      "cell_type": "code",
      "source": [
        "print(type.__doc__ )"
      ],
      "metadata": {
        "colab": {
          "base_uri": "https://localhost:8080/"
        },
        "id": "oj340qU10Kvt",
        "outputId": "eaf6d4f3-ca2e-48d9-922e-c595b81069d7"
      },
      "execution_count": null,
      "outputs": [
        {
          "output_type": "stream",
          "name": "stdout",
          "text": [
            "type(object) -> the object's type\n",
            "type(name, bases, dict, **kwds) -> a new type\n"
          ]
        }
      ]
    },
    {
      "cell_type": "code",
      "source": [
        "def odd_even(num):\n",
        "  \"\"\"\n",
        "  name-arun kumar\n",
        "  date-27-02-2025\n",
        "  input-integer\n",
        "  output-odd or even\n",
        "  this is my function\n",
        "\n",
        "  \"\"\"\n",
        "  if type(num)==int:\n",
        "    if num%2==0:\n",
        "      return 'even'\n",
        "\n",
        "    else:\n",
        "      return 'odd'\n",
        "\n",
        "  else:\n",
        "    return 'vhai integer value dal'\n",
        "\n"
      ],
      "metadata": {
        "id": "Do9KTFUt0STX"
      },
      "execution_count": null,
      "outputs": []
    },
    {
      "cell_type": "code",
      "source": [
        "odd_even.__doc__"
      ],
      "metadata": {
        "colab": {
          "base_uri": "https://localhost:8080/",
          "height": 36
        },
        "id": "qoOS5qcK0dUb",
        "outputId": "63e5c2bd-6738-440b-f260-5057e56331e8"
      },
      "execution_count": null,
      "outputs": [
        {
          "output_type": "execute_result",
          "data": {
            "text/plain": [
              "'\\n  name-arun kumar\\n  date-27-02-2025\\n  input-integer\\n  output-odd or even\\n  this is my function\\n  \\n  '"
            ],
            "application/vnd.google.colaboratory.intrinsic+json": {
              "type": "string"
            }
          },
          "metadata": {},
          "execution_count": 22
        }
      ]
    },
    {
      "cell_type": "code",
      "source": [
        "print(odd_even.__doc__)"
      ],
      "metadata": {
        "colab": {
          "base_uri": "https://localhost:8080/"
        },
        "id": "DyMR7P3i01m_",
        "outputId": "bde99c6e-c76e-424c-ebe7-f9db2e4be103"
      },
      "execution_count": null,
      "outputs": [
        {
          "output_type": "stream",
          "name": "stdout",
          "text": [
            "\n",
            "  name-arun kumar\n",
            "  date-27-02-2025\n",
            "  input-integer\n",
            "  output-odd or even\n",
            "  this is my function\n",
            "  \n",
            "  \n"
          ]
        }
      ]
    },
    {
      "cell_type": "code",
      "source": [
        "odd_even()"
      ],
      "metadata": {
        "colab": {
          "base_uri": "https://localhost:8080/",
          "height": 141
        },
        "id": "SqSq4DEb050e",
        "outputId": "2e3d58e5-2263-4f34-e276-772d7d24a20e"
      },
      "execution_count": null,
      "outputs": [
        {
          "output_type": "error",
          "ename": "TypeError",
          "evalue": "odd_even() missing 1 required positional argument: 'num'",
          "traceback": [
            "\u001b[0;31m---------------------------------------------------------------------------\u001b[0m",
            "\u001b[0;31mTypeError\u001b[0m                                 Traceback (most recent call last)",
            "\u001b[0;32m<ipython-input-24-d86a5f720e3b>\u001b[0m in \u001b[0;36m<cell line: 0>\u001b[0;34m()\u001b[0m\n\u001b[0;32m----> 1\u001b[0;31m \u001b[0modd_even\u001b[0m\u001b[0;34m(\u001b[0m\u001b[0;34m)\u001b[0m\u001b[0;34m\u001b[0m\u001b[0;34m\u001b[0m\u001b[0m\n\u001b[0m",
            "\u001b[0;31mTypeError\u001b[0m: odd_even() missing 1 required positional argument: 'num'"
          ]
        }
      ]
    },
    {
      "cell_type": "markdown",
      "source": [
        "parameter and arguments"
      ],
      "metadata": {
        "id": "OQhV0fw51GRn"
      }
    },
    {
      "cell_type": "code",
      "source": [
        "def add(a,c):#a, c parameter#jav hum function create karte h\n",
        "  return a+c\n"
      ],
      "metadata": {
        "id": "NXADMitQ1BQ3"
      },
      "execution_count": null,
      "outputs": []
    },
    {
      "cell_type": "code",
      "source": [
        "#jav hum function ko call karte h tav arguments dete h\n",
        "add(10,10)"
      ],
      "metadata": {
        "colab": {
          "base_uri": "https://localhost:8080/"
        },
        "id": "aXf7OujP1cuN",
        "outputId": "f90b1924-984d-48c7-efb2-1d4caa6f854f"
      },
      "execution_count": null,
      "outputs": [
        {
          "output_type": "execute_result",
          "data": {
            "text/plain": [
              "20"
            ]
          },
          "metadata": {},
          "execution_count": 27
        }
      ]
    },
    {
      "cell_type": "code",
      "source": [
        "add()"
      ],
      "metadata": {
        "colab": {
          "base_uri": "https://localhost:8080/",
          "height": 141
        },
        "id": "0tH-8Q0t13S9",
        "outputId": "eac4509a-bbd9-42e0-924f-80702344cd0e"
      },
      "execution_count": null,
      "outputs": [
        {
          "output_type": "error",
          "ename": "TypeError",
          "evalue": "add() missing 2 required positional arguments: 'a' and 'c'",
          "traceback": [
            "\u001b[0;31m---------------------------------------------------------------------------\u001b[0m",
            "\u001b[0;31mTypeError\u001b[0m                                 Traceback (most recent call last)",
            "\u001b[0;32m<ipython-input-28-d5d29de3ed94>\u001b[0m in \u001b[0;36m<cell line: 0>\u001b[0;34m()\u001b[0m\n\u001b[0;32m----> 1\u001b[0;31m \u001b[0madd\u001b[0m\u001b[0;34m(\u001b[0m\u001b[0;34m)\u001b[0m\u001b[0;34m\u001b[0m\u001b[0;34m\u001b[0m\u001b[0m\n\u001b[0m",
            "\u001b[0;31mTypeError\u001b[0m: add() missing 2 required positional arguments: 'a' and 'c'"
          ]
        }
      ]
    },
    {
      "cell_type": "code",
      "source": [
        "#defuilt parameter\n",
        "def add(a=0,c=0):\n",
        "  return a+c"
      ],
      "metadata": {
        "id": "IiY7eanG2MEL"
      },
      "execution_count": null,
      "outputs": []
    },
    {
      "cell_type": "code",
      "source": [
        "add()#default arguments"
      ],
      "metadata": {
        "colab": {
          "base_uri": "https://localhost:8080/"
        },
        "id": "3CRzQ-yH2YBB",
        "outputId": "6c5c49bd-69c7-4f28-e52b-a3d517cf1fd6"
      },
      "execution_count": null,
      "outputs": [
        {
          "output_type": "execute_result",
          "data": {
            "text/plain": [
              "0"
            ]
          },
          "metadata": {},
          "execution_count": 34
        }
      ]
    },
    {
      "cell_type": "code",
      "source": [
        "add(10,20)#postinal arguments"
      ],
      "metadata": {
        "colab": {
          "base_uri": "https://localhost:8080/"
        },
        "id": "oLt1mmLT2Znb",
        "outputId": "a21e0afb-3324-460a-8760-47b1120b8b03"
      },
      "execution_count": null,
      "outputs": [
        {
          "output_type": "execute_result",
          "data": {
            "text/plain": [
              "30"
            ]
          },
          "metadata": {},
          "execution_count": 35
        }
      ]
    },
    {
      "cell_type": "code",
      "source": [
        "add(a = 10,c = 3)#keyword argumentts"
      ],
      "metadata": {
        "colab": {
          "base_uri": "https://localhost:8080/"
        },
        "id": "7SWUoIMY2kbq",
        "outputId": "9e9de31b-fe9f-44ae-cd11-312ae3e44b8d"
      },
      "execution_count": null,
      "outputs": [
        {
          "output_type": "execute_result",
          "data": {
            "text/plain": [
              "13"
            ]
          },
          "metadata": {},
          "execution_count": 36
        }
      ]
    },
    {
      "cell_type": "code",
      "source": [
        "# args and kwargs\n",
        "# args-value\n",
        "#kwargs-key and value like dictnory"
      ],
      "metadata": {
        "id": "aKyOlxto2xnf"
      },
      "execution_count": null,
      "outputs": []
    },
    {
      "cell_type": "code",
      "source": [
        "def total_sum(numbers):\n",
        "    return sum(numbers)"
      ],
      "metadata": {
        "id": "OW3h4udE3NfI"
      },
      "execution_count": null,
      "outputs": []
    },
    {
      "cell_type": "code",
      "source": [
        "total_sum([10,20,30,40])"
      ],
      "metadata": {
        "colab": {
          "base_uri": "https://localhost:8080/"
        },
        "id": "81EOxYBR3tO2",
        "outputId": "d93f49f0-b3cc-4c9d-d4b5-9d8aa000e273"
      },
      "execution_count": null,
      "outputs": [
        {
          "output_type": "execute_result",
          "data": {
            "text/plain": [
              "100"
            ]
          },
          "metadata": {},
          "execution_count": 45
        }
      ]
    },
    {
      "cell_type": "code",
      "source": [
        "def mul(*args):\n",
        "  #print(args)\n",
        "  mul=1\n",
        "  for i in args:\n",
        "    mul=mul*i\n",
        "  return mul\n"
      ],
      "metadata": {
        "id": "6yvv8KWN3yPd"
      },
      "execution_count": null,
      "outputs": []
    },
    {
      "cell_type": "code",
      "source": [
        "mul(1,2,3,4)"
      ],
      "metadata": {
        "colab": {
          "base_uri": "https://localhost:8080/"
        },
        "id": "vJnjXCIR4gCR",
        "outputId": "3f3ec11a-d4c8-4b3e-920b-5318648e2c91"
      },
      "execution_count": null,
      "outputs": [
        {
          "output_type": "execute_result",
          "data": {
            "text/plain": [
              "24"
            ]
          },
          "metadata": {},
          "execution_count": 47
        }
      ]
    },
    {
      "cell_type": "code",
      "source": [
        "def add(*salman):\n",
        "  return sum(salman)"
      ],
      "metadata": {
        "id": "a4znBvgP4ixE"
      },
      "execution_count": null,
      "outputs": []
    },
    {
      "cell_type": "code",
      "source": [
        "add(10,20,30,10,10,10,20)"
      ],
      "metadata": {
        "colab": {
          "base_uri": "https://localhost:8080/"
        },
        "id": "5ySkcIyM43FU",
        "outputId": "68a21073-e616-49f0-cd83-bc81b1599ef8"
      },
      "execution_count": null,
      "outputs": [
        {
          "output_type": "execute_result",
          "data": {
            "text/plain": [
              "110"
            ]
          },
          "metadata": {},
          "execution_count": 50
        }
      ]
    },
    {
      "cell_type": "code",
      "source": [
        "def add(*kachra):\n",
        "  return sum(kachra)"
      ],
      "metadata": {
        "id": "EcSO01BN444e"
      },
      "execution_count": null,
      "outputs": []
    },
    {
      "cell_type": "code",
      "source": [
        "add(20,30,50)"
      ],
      "metadata": {
        "colab": {
          "base_uri": "https://localhost:8080/"
        },
        "id": "Ap59q6OT5I8F",
        "outputId": "89601ff8-1900-429c-f6d1-193b4013b334"
      },
      "execution_count": null,
      "outputs": [
        {
          "output_type": "execute_result",
          "data": {
            "text/plain": [
              "100"
            ]
          },
          "metadata": {},
          "execution_count": 52
        }
      ]
    },
    {
      "cell_type": "code",
      "source": [
        "#kwargs-key and value **\n",
        "def display(**kwargs):\n",
        "\n",
        "  for (key,value) in kwargs.items():\n",
        "    print(key,'->',value)"
      ],
      "metadata": {
        "id": "QwaifOPE5K1A"
      },
      "execution_count": null,
      "outputs": []
    },
    {
      "cell_type": "code",
      "source": [
        "display(india='delhi',srilanka='colombo',nepal='kathmandu',pakistan='islamabad')"
      ],
      "metadata": {
        "colab": {
          "base_uri": "https://localhost:8080/"
        },
        "id": "mWv77M7a5svz",
        "outputId": "cd7ab533-9b64-4c5f-910d-ea8cca72ffcc"
      },
      "execution_count": null,
      "outputs": [
        {
          "output_type": "stream",
          "name": "stdout",
          "text": [
            "india -> delhi\n",
            "srilanka -> colombo\n",
            "nepal -> kathmandu\n",
            "pakistan -> islamabad\n"
          ]
        }
      ]
    },
    {
      "cell_type": "code",
      "source": [
        "dict = {'india':'delhi','srilanka':'colombo','nepal':'kathmandu','pakistan':'islamabad'}"
      ],
      "metadata": {
        "id": "zWDZEMmC5y7p"
      },
      "execution_count": null,
      "outputs": []
    },
    {
      "cell_type": "code",
      "source": [
        "dict"
      ],
      "metadata": {
        "colab": {
          "base_uri": "https://localhost:8080/"
        },
        "id": "_ylgasHc53qi",
        "outputId": "977177a9-6f25-4765-8329-801003e8b0cb"
      },
      "execution_count": null,
      "outputs": [
        {
          "output_type": "execute_result",
          "data": {
            "text/plain": [
              "{'india': 'delhi',\n",
              " 'srilanka': 'colombo',\n",
              " 'nepal': 'kathmandu',\n",
              " 'pakistan': 'islamabad'}"
            ]
          },
          "metadata": {},
          "execution_count": 56
        }
      ]
    },
    {
      "cell_type": "code",
      "source": [
        "dict.keys()"
      ],
      "metadata": {
        "colab": {
          "base_uri": "https://localhost:8080/"
        },
        "id": "w_pP7FNV54kW",
        "outputId": "a6ec7db0-bef6-47f7-cec6-8064bf40c700"
      },
      "execution_count": null,
      "outputs": [
        {
          "output_type": "execute_result",
          "data": {
            "text/plain": [
              "dict_keys(['india', 'srilanka', 'nepal', 'pakistan'])"
            ]
          },
          "metadata": {},
          "execution_count": 58
        }
      ]
    },
    {
      "cell_type": "code",
      "source": [
        "dict.values()"
      ],
      "metadata": {
        "colab": {
          "base_uri": "https://localhost:8080/"
        },
        "id": "14J1YH0y6a6L",
        "outputId": "6f3fea20-60cb-407e-ef3d-f854c7787f66"
      },
      "execution_count": null,
      "outputs": [
        {
          "output_type": "execute_result",
          "data": {
            "text/plain": [
              "dict_values(['delhi', 'colombo', 'kathmandu', 'islamabad'])"
            ]
          },
          "metadata": {},
          "execution_count": 59
        }
      ]
    },
    {
      "cell_type": "code",
      "source": [
        "dict.items()"
      ],
      "metadata": {
        "colab": {
          "base_uri": "https://localhost:8080/"
        },
        "id": "MMfE3l6Q6f-E",
        "outputId": "0997a909-0476-497f-8563-8d653a3a069a"
      },
      "execution_count": null,
      "outputs": [
        {
          "output_type": "execute_result",
          "data": {
            "text/plain": [
              "dict_items([('india', 'delhi'), ('srilanka', 'colombo'), ('nepal', 'kathmandu'), ('pakistan', 'islamabad')])"
            ]
          },
          "metadata": {},
          "execution_count": 60
        }
      ]
    },
    {
      "cell_type": "code",
      "source": [],
      "metadata": {
        "id": "6lP68YIZ6mdW"
      },
      "execution_count": null,
      "outputs": []
    }
  ]
}