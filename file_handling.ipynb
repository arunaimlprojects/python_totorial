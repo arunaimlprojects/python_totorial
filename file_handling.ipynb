{
  "nbformat": 4,
  "nbformat_minor": 0,
  "metadata": {
    "colab": {
      "provenance": [],
      "authorship_tag": "ABX9TyNpqgb6IAEl1+L5BZWBXeh4",
      "include_colab_link": true
    },
    "kernelspec": {
      "name": "python3",
      "display_name": "Python 3"
    },
    "language_info": {
      "name": "python"
    }
  },
  "cells": [
    {
      "cell_type": "markdown",
      "metadata": {
        "id": "view-in-github",
        "colab_type": "text"
      },
      "source": [
        "<a href=\"https://colab.research.google.com/github/arunaimlprojects/python_totorial/blob/main/file_handling.ipynb\" target=\"_parent\"><img src=\"https://colab.research.google.com/assets/colab-badge.svg\" alt=\"Open In Colab\"/></a>"
      ]
    },
    {
      "cell_type": "markdown",
      "source": [
        "file handling"
      ],
      "metadata": {
        "id": "5x47yIxsb4kB"
      }
    },
    {
      "cell_type": "code",
      "source": [
        "f = open(\"sample.txt\",'w')\n",
        "f.write('hi i am arun kumar')\n",
        "f.close()"
      ],
      "metadata": {
        "id": "mp-GDKhUb6SL"
      },
      "execution_count": null,
      "outputs": []
    },
    {
      "cell_type": "code",
      "source": [
        "# Error: File Closed\n",
        "\n",
        "f.write('hello')"
      ],
      "metadata": {
        "colab": {
          "base_uri": "https://localhost:8080/",
          "height": 176
        },
        "id": "iNRUY14NcnCL",
        "outputId": "d2923568-d3e1-4a8e-90f7-9709d02b4f86"
      },
      "execution_count": null,
      "outputs": [
        {
          "output_type": "error",
          "ename": "ValueError",
          "evalue": "I/O operation on closed file.",
          "traceback": [
            "\u001b[0;31m---------------------------------------------------------------------------\u001b[0m",
            "\u001b[0;31mValueError\u001b[0m                                Traceback (most recent call last)",
            "\u001b[0;32m<ipython-input-3-c59d51b54258>\u001b[0m in \u001b[0;36m<cell line: 0>\u001b[0;34m()\u001b[0m\n\u001b[1;32m      1\u001b[0m \u001b[0;31m# Error: File Closed\u001b[0m\u001b[0;34m\u001b[0m\u001b[0;34m\u001b[0m\u001b[0m\n\u001b[1;32m      2\u001b[0m \u001b[0;34m\u001b[0m\u001b[0m\n\u001b[0;32m----> 3\u001b[0;31m \u001b[0mf\u001b[0m\u001b[0;34m.\u001b[0m\u001b[0mwrite\u001b[0m\u001b[0;34m(\u001b[0m\u001b[0;34m'hello'\u001b[0m\u001b[0;34m)\u001b[0m\u001b[0;34m\u001b[0m\u001b[0;34m\u001b[0m\u001b[0m\n\u001b[0m",
            "\u001b[0;31mValueError\u001b[0m: I/O operation on closed file."
          ]
        }
      ]
    },
    {
      "cell_type": "code",
      "source": [
        "# Write multiline strings to a file\n",
        "\n",
        "f = open('sample1.txt', 'w')\n",
        "f.write('hello world')\n",
        "f.write('\\n how are you?')\n",
        "f.close()"
      ],
      "metadata": {
        "id": "j8WCY_lldO3u"
      },
      "execution_count": null,
      "outputs": []
    },
    {
      "cell_type": "code",
      "source": [
        "# Case 2 - File Overwrite in Write Mode ('w')\n",
        "\n",
        "f = open('sample.txt', 'w')\n",
        "f.write('sam')\n",
        "f.close()\n",
        "\n",
        "# Note: Opening in 'w' mode replaces all existing content in 'sample.txt'."
      ],
      "metadata": {
        "id": "5lXf28qBdaDb"
      },
      "execution_count": null,
      "outputs": []
    },
    {
      "cell_type": "code",
      "source": [
        "# Problem with 'w' mode ---> Overwrites file content.\n",
        "# To preserves existing content, use 'a' mode (append).\n",
        "\n",
        "f = open('/content/sample1.txt', 'a')\n",
        "f.write('\\n I am fine')\n",
        "f.close()"
      ],
      "metadata": {
        "id": "zsZYJwmHdv95"
      },
      "execution_count": null,
      "outputs": []
    },
    {
      "cell_type": "code",
      "source": [
        "# Write Multiple Lines to a File\n",
        "\n",
        "L = ['hello\\n','hi\\n','how are you\\n', 'I am fine']\n",
        "\n",
        "f = open('/content/sample.txt', 'w')\n",
        "f.writelines(L) # Efficiently writes multiple lines\n",
        "f.close()"
      ],
      "metadata": {
        "id": "i4IJXEMgfFZZ"
      },
      "execution_count": null,
      "outputs": []
    },
    {
      "cell_type": "code",
      "source": [
        "# `read()` Usage\n",
        "\n",
        "f = open('/content/sample.txt', 'r')\n",
        "s = f.read()\n",
        "print(s)\n",
        "f.close()\n",
        "\n",
        "# NOTE : File I/O handles data as strings.\n",
        "#       `txt` files process data as text only, no other formats."
      ],
      "metadata": {
        "colab": {
          "base_uri": "https://localhost:8080/"
        },
        "id": "EPJXQpQNfj8R",
        "outputId": "91dc6dd5-a05e-47f5-b778-592b8ad97d5d"
      },
      "execution_count": null,
      "outputs": [
        {
          "output_type": "stream",
          "name": "stdout",
          "text": [
            "hello\n",
            "hi\n",
            "how are you\n",
            "I am fine\n"
          ]
        }
      ]
    },
    {
      "cell_type": "code",
      "source": [
        "f = open('/content/sample.txt','r')\n",
        "print(f.read())"
      ],
      "metadata": {
        "colab": {
          "base_uri": "https://localhost:8080/"
        },
        "id": "PudFsCICfj_F",
        "outputId": "2bf7728f-511c-4142-e666-8d2e53203a16"
      },
      "execution_count": null,
      "outputs": [
        {
          "output_type": "stream",
          "name": "stdout",
          "text": [
            "hello\n",
            "hi\n",
            "how are you\n",
            "I am fine\n"
          ]
        }
      ]
    },
    {
      "cell_type": "code",
      "source": [
        "# Read up to n chars\n",
        "\n",
        "f = open('/content/sample.txt', 'r')\n",
        "s = f.read(5)\n",
        "print(s)\n"
      ],
      "metadata": {
        "colab": {
          "base_uri": "https://localhost:8080/"
        },
        "id": "qgLhBBUcfkH8",
        "outputId": "b0626b7e-28e5-4379-e97e-d40fe2a5915b"
      },
      "execution_count": null,
      "outputs": [
        {
          "output_type": "stream",
          "name": "stdout",
          "text": [
            "hello\n"
          ]
        }
      ]
    },
    {
      "cell_type": "code",
      "source": [
        "# Using `readline()`\n",
        "\n",
        "f = open('/content/sample.txt', 'r')\n",
        "print(f.readline(), end='') # Avoid auto newline\n",
        "print(f.readline(), end='')\n",
        "f.close()"
      ],
      "metadata": {
        "id": "vpNy7MaEfkN3"
      },
      "execution_count": null,
      "outputs": []
    },
    {
      "cell_type": "code",
      "source": [
        "f = open('/content/sample.txt','r')\n",
        "print(f.readline(),end='')\n",
        "print(f.readline())"
      ],
      "metadata": {
        "colab": {
          "base_uri": "https://localhost:8080/"
        },
        "id": "He31q7q3hD2a",
        "outputId": "78fa1b7c-d113-4dae-d0fb-b73afaab5652"
      },
      "execution_count": null,
      "outputs": [
        {
          "output_type": "stream",
          "name": "stdout",
          "text": [
            "hello\n",
            "hi\n",
            "\n"
          ]
        }
      ]
    },
    {
      "cell_type": "markdown",
      "source": [
        "file handling"
      ],
      "metadata": {
        "id": "i3uU4e-h5EW0"
      }
    },
    {
      "cell_type": "code",
      "source": [
        "# Case 1 - File Not Present\n",
        "f = open('sample.txt','w')\n",
        "f.write('hello world')\n",
        "f.close()"
      ],
      "metadata": {
        "id": "4vcU0vAZhNP1"
      },
      "execution_count": 2,
      "outputs": []
    },
    {
      "cell_type": "code",
      "source": [
        "# Error: File Closed\n",
        "\n",
        "f.write('hi ')"
      ],
      "metadata": {
        "colab": {
          "base_uri": "https://localhost:8080/",
          "height": 176
        },
        "id": "NhcuB7hd5a1S",
        "outputId": "de38af78-5004-4298-9509-35cffe4941b1"
      },
      "execution_count": 3,
      "outputs": [
        {
          "output_type": "error",
          "ename": "ValueError",
          "evalue": "I/O operation on closed file.",
          "traceback": [
            "\u001b[0;31m---------------------------------------------------------------------------\u001b[0m",
            "\u001b[0;31mValueError\u001b[0m                                Traceback (most recent call last)",
            "\u001b[0;32m<ipython-input-3-6aa7830f0576>\u001b[0m in \u001b[0;36m<cell line: 0>\u001b[0;34m()\u001b[0m\n\u001b[1;32m      1\u001b[0m \u001b[0;31m# Error: File Closed\u001b[0m\u001b[0;34m\u001b[0m\u001b[0;34m\u001b[0m\u001b[0m\n\u001b[1;32m      2\u001b[0m \u001b[0;34m\u001b[0m\u001b[0m\n\u001b[0;32m----> 3\u001b[0;31m \u001b[0mf\u001b[0m\u001b[0;34m.\u001b[0m\u001b[0mwrite\u001b[0m\u001b[0;34m(\u001b[0m\u001b[0;34m'hi '\u001b[0m\u001b[0;34m)\u001b[0m\u001b[0;34m\u001b[0m\u001b[0;34m\u001b[0m\u001b[0m\n\u001b[0m",
            "\u001b[0;31mValueError\u001b[0m: I/O operation on closed file."
          ]
        }
      ]
    },
    {
      "cell_type": "code",
      "source": [
        "# Write multiline strings to a file\n",
        "\n",
        "f = open('sample1.txt', 'w')\n",
        "f.write('hello world')\n",
        "f.write('\\nhi')\n",
        "f.close()"
      ],
      "metadata": {
        "id": "TaHbExV75xF9"
      },
      "execution_count": 5,
      "outputs": []
    },
    {
      "cell_type": "code",
      "source": [
        "# Case 2 - File Overwrite in Write Mode ('w')\n",
        "\n",
        "f = open('sample.txt', 'w')\n",
        "f.write('salman khan')\n",
        "f.close()\n",
        "\n",
        "# Note: Opening in 'w' mode replaces all existing content in 'sample.txt'."
      ],
      "metadata": {
        "id": "4UDoW7cE6Gfb"
      },
      "execution_count": 6,
      "outputs": []
    },
    {
      "cell_type": "code",
      "source": [
        "# Problem with 'w' mode ---> Overwrites file content.\n",
        "# To preserves existing content, use 'a' mode (append).\n",
        "\n",
        "f = open('/content/sample1.txt', 'a')\n",
        "f.write('\\nI am fine')\n",
        "f.close()"
      ],
      "metadata": {
        "id": "8K5RVUmj6WP_"
      },
      "execution_count": 7,
      "outputs": []
    },
    {
      "cell_type": "code",
      "source": [
        "# Write Multiple Lines to a File\n",
        "\n",
        "L = ['hello\\n','hi\\n','how are you\\n', 'I am fine']\n",
        "\n",
        "f = open('/content/sample.txt', 'w')\n",
        "f.writelines(L) # Efficiently writes multiple lines\n",
        "f.close()"
      ],
      "metadata": {
        "id": "xO0-8NGF6qfb"
      },
      "execution_count": 8,
      "outputs": []
    },
    {
      "cell_type": "code",
      "source": [
        "f = open('/content/sample.txt','r')\n",
        "print(f.read())"
      ],
      "metadata": {
        "colab": {
          "base_uri": "https://localhost:8080/"
        },
        "id": "-ODz_8xZ7pcY",
        "outputId": "1c6c8d37-8334-4c2f-d887-7efee56c3d17"
      },
      "execution_count": 11,
      "outputs": [
        {
          "output_type": "stream",
          "name": "stdout",
          "text": [
            "hello\n",
            "hi\n",
            "how are you\n",
            "I am fine\n"
          ]
        }
      ]
    },
    {
      "cell_type": "code",
      "source": [
        "f = open('/content/sample.txt','r')\n",
        "print(f.read(10))"
      ],
      "metadata": {
        "colab": {
          "base_uri": "https://localhost:8080/"
        },
        "id": "k2ZKA3np7vTu",
        "outputId": "f4bec6d1-e30f-49cd-9ef6-39981d65e278"
      },
      "execution_count": 13,
      "outputs": [
        {
          "output_type": "stream",
          "name": "stdout",
          "text": [
            "hello\n",
            "hi\n",
            "h\n"
          ]
        }
      ]
    },
    {
      "cell_type": "code",
      "source": [
        "# Using `readline()`\n",
        "\n",
        "f = open('/content/sample.txt', 'r')\n",
        "print(f.readline(),end=\"\")\n",
        "print(f.readline()) # Avoid auto newline\n",
        "\n",
        "f.close()"
      ],
      "metadata": {
        "colab": {
          "base_uri": "https://localhost:8080/"
        },
        "id": "80HvSYW77-sX",
        "outputId": "3421f4c6-b67b-4924-8d07-ea8ab831b45a"
      },
      "execution_count": 16,
      "outputs": [
        {
          "output_type": "stream",
          "name": "stdout",
          "text": [
            "hello\n",
            "hi\n",
            "\n"
          ]
        }
      ]
    },
    {
      "cell_type": "code",
      "source": [],
      "metadata": {
        "id": "PgHTHqZX8Ktk"
      },
      "execution_count": null,
      "outputs": []
    }
  ]
}